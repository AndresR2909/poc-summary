{
 "cells": [
  {
   "cell_type": "markdown",
   "metadata": {},
   "source": [
    "https://arxiv.org/pdf/2104.07545"
   ]
  },
  {
   "cell_type": "code",
   "execution_count": 2,
   "metadata": {},
   "outputs": [
    {
     "name": "stderr",
     "output_type": "stream",
     "text": [
      "/Users/andrestrepo/Documents/repos_personal/poc-summary/.venv/lib/python3.12/site-packages/tqdm/auto.py:21: TqdmWarning: IProgress not found. Please update jupyter and ipywidgets. See https://ipywidgets.readthedocs.io/en/stable/user_install.html\n",
      "  from .autonotebook import tqdm as notebook_tqdm\n"
     ]
    }
   ],
   "source": [
    "import os\n",
    "from dotenv import load_dotenv\n",
    "from huggingface_hub import login\n",
    "from datasets import load_dataset\n",
    "import pandas as pd"
   ]
  },
  {
   "cell_type": "code",
   "execution_count": 3,
   "metadata": {},
   "outputs": [
    {
     "data": {
      "text/plain": [
       "True"
      ]
     },
     "execution_count": 3,
     "metadata": {},
     "output_type": "execute_result"
    }
   ],
   "source": [
    "load_dotenv()"
   ]
  },
  {
   "cell_type": "code",
   "execution_count": 4,
   "metadata": {},
   "outputs": [],
   "source": [
    "os.chdir('..')\n",
    "from app.llm.llm import SummaryLlm"
   ]
  },
  {
   "cell_type": "code",
   "execution_count": 5,
   "metadata": {},
   "outputs": [
    {
     "name": "stderr",
     "output_type": "stream",
     "text": [
      "Note: Environment variable`HF_TOKEN` is set and is the current active token independently from the token you've just configured.\n"
     ]
    }
   ],
   "source": [
    "login(token = os.environ.get(\"HF_TOKEN\") )\n",
    "\n",
    "dataset_name = \"AndresR2909/youtube_transcriptions_summaries_2025_gpt4.1\""
   ]
  },
  {
   "cell_type": "code",
   "execution_count": 6,
   "metadata": {},
   "outputs": [],
   "source": [
    "splits = {'train': 'data/train-00000-of-00001.parquet', 'test': 'data/test-00000-of-00001.parquet'}\n",
    "df_test = pd.read_parquet(f\"hf://datasets/{dataset_name}/\" + splits[\"test\"])"
   ]
  },
  {
   "cell_type": "code",
   "execution_count": 7,
   "metadata": {},
   "outputs": [
    {
     "name": "stdout",
     "output_type": "stream",
     "text": [
      "Actúa como un experto en trading y análisis de mercados financieros.\n",
      "\n",
      "INSTRUCCIONES:\n",
      "1. Analiza el texto proporcionado entre las líneas de guiones.\n",
      "2. Elabora un informe estructurado siguiendo exactamente el formato solicitado.\n",
      "3. Utiliza un lenguaje claro, conciso y relevante para inversores.\n",
      "4. No inventes información; limita tu análisis únicamente al contenido del texto.\n",
      "\n",
      "FORMATO DEL INFORME:\n",
      "- **Introducción:** Presenta una visión general del tema tratado.\n",
      "- **Puntos clave:** Resume los aspectos más importantes en formato de viñetas.\n",
      "- **Conclusión:** Ofrece un cierre que sintetice el análisis realizado.\n",
      "- **Activos recomendados:** Extrae y lista, en una sección aparte, todos los activos mencionados como opciones de inversión.\n",
      "\n",
      "Texto a analizar:\n",
      "------------\n",
      "¿cuanto dinero necesito para vivir del trading? ¿ libertad financiera? vivir de la bolsa?. un saludo para todos hoy vamos a hablar de un tema de mucho interés algo que nos preguntan mucho constantemente y es cuánto dinero necesito para vivir del trading o las inversiones antes de continuar recuerden que estos vídeos son netamente educativos una recomendación y una sexualidad para invertir simplemente buscamos enseñar desde el punto de vista educativo y pedagógico recuerden seguirnos de nuestras redes arenal está en twitter toro de arena en twitter además la educación en instagram allá los esperamos allá compartimos también mucha mucha información y mucha educación financiera porque quisimos hacer este vídeo cuando ustedes entran a redes instagram twitter y ponen la palabra educación financiera o libertad financiera los van a inundar con una serie de mentiras y de farsas de personas mostrándoles carros viajes en la playa el éxito nos falta la frase pendeja con un león a toda esta gente a todos esos estafadores que venden esto como un negocio fácil miren no acá les encantan los leones por alguna razón yo creo que todos de creer los leones normalmente ellos son el león y ustedes van a hacer el corderito al que se van a comer porque la mayoría de educación financiera libertad financiera hace tu propio jefe todas esas vainas que les venden en redes son mentira pretenden esto como un negocio fácil como si fuera fácil llegar al éxito les venden fotos en la playa les venden carros y realmente el negocio que hay detrás de esto son generalmente pira son fraudes son personas que viven del multinivel no te van a enseñar a invertir simplemente te van a meter en un multinivel en una pirámide te van a vender una plataforma de trading donde ellos ganan dinero por cada persona que lleguen entre realmente el negocio que ellos están haciendo es contigo y realmente lo que te van a pedir es que consigas más gente y que esa gente te meta al muy buen estilo pues de una pirámide y por eso la farsa por eso quería comenzar con esta imagen como siempre estos poniéndole leones a toda hora fotos en la playa carros frases de superación personal pendejas en su mayoría entonces aquí queremos aterrizar un poquito a la gente porque estas personas le dicen a todo el mundo sobre todas las personas más jóvenes que pueden invertir en bolsa desde 200 dólares desde mil dólares y con eso van a ser sus propios jefes con eso van a trabajar desde su casa y eso realmente es una farsa entonces la pregunta que queremos responder en este vídeo cuánto dinero necesito para vivir del trading y resulta que para responder esta pregunta no es una cifra fija esto está pregunta realmente se responde con varias preguntas vamos a tomar tres de esas preguntas las más importantes y la primera pregunta que usted se tiene que hacer cuando se haga la pregunta de cuánto dinero necesita para abrir el trading es este cuánto dinero necesita usted para vivir a qué me refiero cuáles son mis gastos mensuales cuánto necesito para comida cuando necesito para vivienda cuánto necesito para entretenimiento para salud tengo hijos etcétera entonces aquí cada persona tiene una historia diferente ahora personas que viven con sus papás digamos que estas personas probablemente sus gastos fijos sus costos vivos van a ser pequeños probablemente una persona de estas que viven con sus padres puede vivir con los 500 dólares con un millón de pesos con mil dólares dos millones de pesos probablemente no necesita nada por para pelé a todo entonces estas personas necesitarán un monto x mientras que hay otras personas que pueden tener hijos que pueden tener familia que puede tener muchas obligaciones y sus gastos mensuales ya no son 500 dólares dos mil dólares sino que pueden ser dos mil dólares cinco mil dólares cinco millones de pesos diez millones de pesos entonces miren que la pregunta de cuánto necesito realmente se responde analizando su situación personal de cuánto dinero necesita para vivir entonces una vez usted ya sabe cuánto necesita para vivir pues con esa base ya se puede hacer la segunda pregunta que es igual de importante o más importante y es usted cuánto dinero ha demostrado que puede ganar en el mercado es decir qué rentabilidad usted ya demostró que ha tenido en los últimos tres a cinco años porque la bolsa de las acciones también la gente que le gusta el forest él los mercados no tiene rentabilidades fijas aquí las rentabilidades son de acuerdo a cada persona qué tan buena es que tanto gana y la única forma de usted saber cuánto gana 3 es mirar su estado de resultados a ver usted cuánta rentabilidad medida y probada por años tiene no es cuánta rentabilidad tuve el mes pasado en cuanto a rentabilidad todos los últimos tres meses los mercados son muy cambiantes uno puede acertar por un tiempo corto y después de equivocarse un tiempo largo entonces la única forma de uno más o menos saber si es bueno o malo en esto es que rentabilidad he tenido en los últimos 3 a 5 años ya cuando usted se responde esas dos preguntas usted ya puede empezar a hacerse una idea de cuánto de cuánto dinero realmente necesita para invertir yo los quiero poner en contexto en la bolsa realmente cuánto ganan los inversionistas porque mucha gente y si yo mantengo rentabilidades del 50 por ciento al año yo valgo el 5 por ciento mensual aquí les traigo los mejores fondos y los mejores inversionistas el mundo cuál ha sido su rentabilidad promedio vamos a los mejores inversionistas del mundo los legendarios gene simmons en todo este período de tiempo estamos hablando 40 años un lapso de 40 años perdón 30 años para tener una rentabilidad promedio del 39 por ciento entonces bien como un inversionista legendario ya no soy yo no es no es de usted es un inversionista legendario su rentabilidad promedio estaba en buenos problemas del 39 por ciento george soros del 32 peter links 29 warren buffett que todos los conocemos 21 por ciento es la rentabilidad promedio anual de warren buffett para que se hagan una idea contra que están compitiendo y por ejemplo les traigo este en españa los fondos más rentables el últimos 25 años vienen la rentabilidad promedio de este fondo de 12.97 punto 97.8 anual y aquí otro de los mejores gestores de fondos en el mundo miren la rentabilidad es promedio 25 por ciento anual promedio 19.6 por ciento anual entonces con esto se hace una idea de más o menos cuanto hace una que puede ser una rentabilidad buena y una rentabilidad para cuando se le ofrezca un 10% mensual usted va a saber que eso es una farsa no lo logra ni siquiera los mejores inversionistas del mundo entonces con esta imagen que les dejo aquí usted ya se puede hacer una idea de lo que puede esperar no significa que uno no le pueda ganar a estos inversionistas hay años muy buenos en la bolsa de años en los que usted puede ganarse el 50 al 100 por ciento eso ocurre además de estas personas manejan unos capitales muy grandes no tienen la misma movilidad de una persona natural y un inversionista pequeño un inversionista pequeño si le puede ganar a estas personas esto no es una regla de 39% pero en un periodo largo de tiempo de cinco años diez años veinte años la rentabilidad si va a atender a valores como estos o cómo es como es no va a lograr mantener una rentabilidad del 100 por ciento anual por años usted no va a lograr mantener una rentabilidad del 50 por ciento anual por años les pongo un ejemplo el año pasado fue excelente en colombia fue un año hermoso y este año ha sido terrible terrible de malo entonces el año pasado si usted el año pasado por lo que la rentabilidad del 30 el 50 al 60 fácilmente este año probablemente esté perdiendo el 10 el 20 el 30 hasta el 40 si está indexado algún índice entonces esto no es tan fácil como lo pintan las rentabilidades no son fijas miren lo que ganan los grandes inversionistas compare con ellos para que se haga una idea de realmente o sea que le está apuntando pensar en que se va a ganar un 40 por ciento todos los años es irreal pensar que se va a ganar un 30 por ciento por 20 años es irreal solamente lo logran los mejores inversionistas del mundo entonces hay que aterrizar esas cifras y la última pregunta son más pero les quiero traer estas tres es qué pasa si todo falla usted tiene recursos suficientes para vivir un mal mes o un mal año qué pasa si usted vive solo del trading y hay una en el que usted todos los meses pierda dinero con que sostiene su casa con que ellos tienen su familia con que se sostiene usted diferente si viven en su casa con sus papás por eso todas estas farsas de trading y libertad financiera todas estas academias que han salido de trading que sólo una falsa la mayoría por eso se enfocan mucho en los estudiantes porque los estudiantes tienen poca experiencia tienen pocos recursos y todo si quieren hacer ricos todos se creen traders y la mayoría vive con sus padres en peces los quiebran no pasa nada distinto a la responsabilidad de gaudio un pop de una persona que mantiene una familia o tiene hijos entonces esa pregunta es muy importante qué pasa si todo falla entonces aquí en donde les trató de responder su pregunta que realmente se la tienen que responder ustedes mismo yo no la puedo responder cada historia distinta cuál es la rentabilidad mensual que usted tuvo por aprobada por varios años y cuál es el capital es hoy en millones de pesos colombianos esto se puede hacer con dólares con pesos mexicanos simplemente haga esta tabla cuanta su rentabilidad mensual del trae tres ejemplos el 1 por ciento mensual el 2 y el 3 el 1 por ciento mensual en lo que hace y reid algo históricamente sea se está comparando con la mejor evidencia del mundo el 2% mensual es un poquito más de lo que hace warren buffett que más o menos promedio tiene el 1.8 mensual entonces mira lo que le estamos apuntando es con un 2 por ciento que estaría comparando es de más o menos con un barra en voten y un 3% es lo que hace el más legendario estos inversionistas que hicimos entonces si usted cree que se puede ganar un 3 por ciento mensual ustedes básicamente se está comparando con team chivos y cree que se puede ganar un 2 por ciento mensual se está comparando con warren buffett un 1% si se está comparando con reid al yo recuerde son rentabilidades a largo en periodos largos de tiempo en un año y ellos pueden tener años del 40 al 50 cuenta en el año del -20 entonces esto es un promedio histórico pero es lo importante porque si usted quiere vivir del trading realmente necesitas un promedio histórico nos vamos a los escenarios 10 millones de pesos alumnos son 100 mil pesos no creo que nadie va con eso al 2 son 200 mil pesos al 3 son 300 mil pesos claramente con dineros de pesos creo que nadie puede vivir con 50 millones el 1% se ganaría 500 mil pesos mensuales suponiendo que siempre todo le sale bien sería un rey dale se puede ganar el 2 por ciento mensual sería un millón de pesos no creo que mucha gente viva con un millón de pesos también siguen con sus papás de producto y sería un barrio en buffet y un gene simmons se ganaría un millón y medio mensual con 50 millones termine que usted probablemente no puede ir del trading ni con 10 millones ni con 50 millones vámonos a 100 millones aquí sería un millón 2 millones 3 millones creo que algunas personas podrán vivir con 1 millón de pesos con una rentabilidad tipo warren buffett y ya hicimos que ya es bastante irreal bastante poco probable entonces miren que aquí empezamos a tumbar ese esa farsa de que usted puede ir del trading con mil dólares con diez mil dólares con cinco mil dólares no se puede vivir del trading con ese dinero es falso eventualmente se van a dar un golpe contra el mundo y se van a dar cuenta que los engañaron que eso no es real y pues ya son los escenarios miren con 500 millones de pesos estamos hablando más de 100 mil dólares 120 mil dólares 125 mil dólares más o menos con 125 mil dólares con 500 millones de pesos si usted logra el 1 mensual se puede ganar 5 millones de pesos esto es un escenario viable que usted digamos con esta cifra el 1 por ciento mensual es algo que se puede lograr como si usted juicioso y demostró que de una estrategia se puede lograr ella con este pronto usted sí pueden del trading si logran 2% como warren buffett son 10 millones de pesos mensuales con esto si vive una gran mayoría de la gente y pues si usted ya es un monstruo como gene simmons que se hace el 3% mensual cuentas son 15 millones de pesos entonces miremos que realmente con rentabilidades que se pueden lograr esto no crean que no se puede brazos se puede lograr pero no lo logra cualquiera lo logran poquitos usted digamos ya en esta zona de 200 500 mil de pesos quizás pueda vivir del trading no va a ver muy cómodo a tener meses malos no todos los meses te vas a ganar el uno habrá otro mes que te ganes del 5 perdón el 10 es de renta variable pero quiero que se hagan una idea de la farsa que les están vendiendo con cinco mil diez mil dólares eso no es real usted no va a vivir del trading con diez millones de pesos que no habéis de bill con 50 millones de pesos eso es un dinero que se verá invertirlo como una inversión a largo plazo para crecer el capital pero vivir vivir de ese monto realmente es irreal es irreal y cuando tengan un mes malo van a sufrir y se van a empezar a comer el capital entonces realmente una persona que vive el trading en mi opinión de estar por encima de estas cifras incluso 200 millones 500 millones mil millones para poder vivir tranquilamente no es bueno en un mes malo para obtener sé que estar estrenando entonces aquí tumbamos ese mito tumbamos esa farsa de que se pueden el trading con cualquier con cualquier cantidad de dinero y ya les mostré las cifras de los grandes inversionistas los grandes gestores de fondos para que salga un huevón a decirle a usted que le ofrece el 5 o 10 por ciento mensual cuando los mayores gestores del mundo los inversionistas legendarios de toda la historia se ganan el 1 23 por ciento mensual y sale un fuego aparecido de la nada decirle que con ello se va a ganar el 10 por ciento mensual que usted se va a ganar el 5 por ciento mensual invirtiendo en forex o bitcoin que esa es la mayor farsa de todas a ellos están tumbando esas rentabilidades fijarme existen las rentabilidades en fort eso bitcoin son totalmente aleatorias pueden ser positivas pueden ser negativas y renta variable no son rentabilidades fijas les están viendo la cara de marrar los cuando les ofrezcan esta red este tipo de rentabilidades mensuales fijas en negocios de renta variable acciones sobre pico y monedas lo que sea ustedes inmediatamente tengan la certeza que los están tumbando entonces están metiendo en un fraude en una pirámide cualquier fraude que se imaginen hay dos están metiendo lo que están haciendo no es legal probablemente sea un lado de activos o cualquier cuento pero no es legal es un tumbe entonces mucho cuidado cuando les ofrezcan estas rentabilidades sean muy cauto no existe en renta variable no hay rentabilidades fijas por lo tanto se le ofrece en el 1 mensual o el 2 mensual del 3 mensual también lo están tumbando porque eso no existe cuando se haya alegado podemos ganar o perder ahí ya le están diciendo encuentro cómo es pero cuando lo ofrezcan rentabilidades fijas en foro y pico en cualquier cosa el 2 están tumbando bueno muchas gracias por su tiempo espero les sea de utilidad yo personalmente considero que el la bolsa el trailer son un negocio muy complicado que requiere mucho estudio es una carrera como cualquier carrera que dura cinco o seis años mínimo ya hay que tirarse al agua que hay que experimentar que se va a perder dinero no es fácil solamente unos cuantos terminan terminando con éxito y re depende de mucha disciplina mucho estudio y el que quiera vivir de esto pues mucho capital nuevamente pues espero que les sea de utilidad y un saludo\n",
      "------------\n",
      "\n",
      "Recuerda: Sigue el formato solicitado y asegúrate de que la información sea precisa y útil para inversores.\n"
     ]
    }
   ],
   "source": [
    "print(df_test.loc[0, 'prompt'])"
   ]
  },
  {
   "cell_type": "code",
   "execution_count": 8,
   "metadata": {},
   "outputs": [
    {
     "name": "stdout",
     "output_type": "stream",
     "text": [
      "<class 'pandas.core.frame.DataFrame'>\n",
      "RangeIndex: 221 entries, 0 to 220\n",
      "Data columns (total 15 columns):\n",
      " #   Column             Non-Null Count  Dtype  \n",
      "---  ------             --------------  -----  \n",
      " 0   channel_name       221 non-null    object \n",
      " 1   video_id           221 non-null    object \n",
      " 2   source             221 non-null    object \n",
      " 3   publish_date       158 non-null    object \n",
      " 4   duration           221 non-null    float64\n",
      " 5   last_update_date   221 non-null    object \n",
      " 6   title              221 non-null    object \n",
      " 7   text               221 non-null    object \n",
      " 8   year               221 non-null    int64  \n",
      " 9   month              158 non-null    float64\n",
      " 10  number_of_tokenks  221 non-null    int64  \n",
      " 11  prompt             221 non-null    object \n",
      " 12  summary            221 non-null    object \n",
      " 13  key_terms          221 non-null    object \n",
      " 14  __index_level_0__  221 non-null    int64  \n",
      "dtypes: float64(2), int64(3), object(10)\n",
      "memory usage: 26.0+ KB\n"
     ]
    }
   ],
   "source": [
    "df_test.info()"
   ]
  },
  {
   "cell_type": "code",
   "execution_count": 9,
   "metadata": {},
   "outputs": [
    {
     "data": {
      "text/html": [
       "<div>\n",
       "<style scoped>\n",
       "    .dataframe tbody tr th:only-of-type {\n",
       "        vertical-align: middle;\n",
       "    }\n",
       "\n",
       "    .dataframe tbody tr th {\n",
       "        vertical-align: top;\n",
       "    }\n",
       "\n",
       "    .dataframe thead th {\n",
       "        text-align: right;\n",
       "    }\n",
       "</style>\n",
       "<table border=\"1\" class=\"dataframe\">\n",
       "  <thead>\n",
       "    <tr style=\"text-align: right;\">\n",
       "      <th></th>\n",
       "      <th>video_id</th>\n",
       "      <th>channel_name</th>\n",
       "      <th>prompt</th>\n",
       "      <th>text</th>\n",
       "      <th>summary</th>\n",
       "    </tr>\n",
       "  </thead>\n",
       "  <tbody>\n",
       "    <tr>\n",
       "      <th>0</th>\n",
       "      <td>nn-WwZRAAO0</td>\n",
       "      <td>ARENA ALFA</td>\n",
       "      <td>Actúa como un experto en trading y análisis de...</td>\n",
       "      <td>¿cuanto dinero necesito para vivir del trading...</td>\n",
       "      <td>- **Introducción:**  \\nEl texto analiza de man...</td>\n",
       "    </tr>\n",
       "    <tr>\n",
       "      <th>1</th>\n",
       "      <td>YyNzWme4cwg</td>\n",
       "      <td>ARENA ALFA</td>\n",
       "      <td>Actúa como un experto en trading y análisis de...</td>\n",
       "      <td>el secreto de buffett: ventas masivas y auge d...</td>\n",
       "      <td>- **Introducción:**  \\nEl texto analiza los re...</td>\n",
       "    </tr>\n",
       "    <tr>\n",
       "      <th>2</th>\n",
       "      <td>qVLNbTt9xSI</td>\n",
       "      <td>ARENA ALFA</td>\n",
       "      <td>Actúa como un experto en trading y análisis de...</td>\n",
       "      <td>porsche sale a la bolsa y crisis mercados tras...</td>\n",
       "      <td>- **Introducción:**  \\nEl texto analiza la sal...</td>\n",
       "    </tr>\n",
       "    <tr>\n",
       "      <th>3</th>\n",
       "      <td>cA1gS9jSeFU</td>\n",
       "      <td>ARENA ALFA</td>\n",
       "      <td>Actúa como un experto en trading y análisis de...</td>\n",
       "      <td>la recesion economica de 2023 ¿una oportunidad...</td>\n",
       "      <td>**Informe de Análisis: Recesión Económica de 2...</td>\n",
       "    </tr>\n",
       "    <tr>\n",
       "      <th>4</th>\n",
       "      <td>aQj_NEG3h8Q</td>\n",
       "      <td>ARENA ALFA</td>\n",
       "      <td>Actúa como un experto en trading y análisis de...</td>\n",
       "      <td>conconcreto en reorganizacion - ¿que significa...</td>\n",
       "      <td>- **Introducción:**  \\nEl texto analiza la sit...</td>\n",
       "    </tr>\n",
       "    <tr>\n",
       "      <th>...</th>\n",
       "      <td>...</td>\n",
       "      <td>...</td>\n",
       "      <td>...</td>\n",
       "      <td>...</td>\n",
       "      <td>...</td>\n",
       "    </tr>\n",
       "    <tr>\n",
       "      <th>216</th>\n",
       "      <td>kE4PHBzjK9w</td>\n",
       "      <td>USACRYPTONOTICIAS</td>\n",
       "      <td>Actúa como un experto en trading y análisis de...</td>\n",
       "      <td>bitcoin: cuidado | crypto | btc. para decirles...</td>\n",
       "      <td>- **Introducción:**  \\nEl texto analizado ofre...</td>\n",
       "    </tr>\n",
       "    <tr>\n",
       "      <th>217</th>\n",
       "      <td>84zFrrHaBCw</td>\n",
       "      <td>USACRYPTONOTICIAS</td>\n",
       "      <td>Actúa como un experto en trading y análisis de...</td>\n",
       "      <td>bitcoin en español | bitcoin noticias | bitcoi...</td>\n",
       "      <td>- **Introducción:**  \\nEl texto analizado corr...</td>\n",
       "    </tr>\n",
       "    <tr>\n",
       "      <th>218</th>\n",
       "      <td>F4-oXv3oB9w</td>\n",
       "      <td>USACRYPTONOTICIAS</td>\n",
       "      <td>Actúa como un experto en trading y análisis de...</td>\n",
       "      <td>bitcoin: podría llegar a los 24,700 otra vez |...</td>\n",
       "      <td>**Informe de Análisis de Mercado Cripto**\\n\\n-...</td>\n",
       "    </tr>\n",
       "    <tr>\n",
       "      <th>219</th>\n",
       "      <td>oi9z9YkeUZ8</td>\n",
       "      <td>USACRYPTONOTICIAS</td>\n",
       "      <td>Actúa como un experto en trading y análisis de...</td>\n",
       "      <td>bitcoin: cuidado con esto. a ver ahora sí pare...</td>\n",
       "      <td>- **Introducción:**  \\nEl texto analizado corr...</td>\n",
       "    </tr>\n",
       "    <tr>\n",
       "      <th>220</th>\n",
       "      <td>QEzWdecJPKM</td>\n",
       "      <td>USACRYPTONOTICIAS</td>\n",
       "      <td>Actúa como un experto en trading y análisis de...</td>\n",
       "      <td>seize the moment! trading strategies for wave ...</td>\n",
       "      <td>- **Introducción:**  \\nEl texto analiza estrat...</td>\n",
       "    </tr>\n",
       "  </tbody>\n",
       "</table>\n",
       "<p>221 rows × 5 columns</p>\n",
       "</div>"
      ],
      "text/plain": [
       "        video_id       channel_name  \\\n",
       "0    nn-WwZRAAO0        ARENA ALFA    \n",
       "1    YyNzWme4cwg        ARENA ALFA    \n",
       "2    qVLNbTt9xSI        ARENA ALFA    \n",
       "3    cA1gS9jSeFU        ARENA ALFA    \n",
       "4    aQj_NEG3h8Q        ARENA ALFA    \n",
       "..           ...                ...   \n",
       "216  kE4PHBzjK9w  USACRYPTONOTICIAS   \n",
       "217  84zFrrHaBCw  USACRYPTONOTICIAS   \n",
       "218  F4-oXv3oB9w  USACRYPTONOTICIAS   \n",
       "219  oi9z9YkeUZ8  USACRYPTONOTICIAS   \n",
       "220  QEzWdecJPKM  USACRYPTONOTICIAS   \n",
       "\n",
       "                                                prompt  \\\n",
       "0    Actúa como un experto en trading y análisis de...   \n",
       "1    Actúa como un experto en trading y análisis de...   \n",
       "2    Actúa como un experto en trading y análisis de...   \n",
       "3    Actúa como un experto en trading y análisis de...   \n",
       "4    Actúa como un experto en trading y análisis de...   \n",
       "..                                                 ...   \n",
       "216  Actúa como un experto en trading y análisis de...   \n",
       "217  Actúa como un experto en trading y análisis de...   \n",
       "218  Actúa como un experto en trading y análisis de...   \n",
       "219  Actúa como un experto en trading y análisis de...   \n",
       "220  Actúa como un experto en trading y análisis de...   \n",
       "\n",
       "                                                  text  \\\n",
       "0    ¿cuanto dinero necesito para vivir del trading...   \n",
       "1    el secreto de buffett: ventas masivas y auge d...   \n",
       "2    porsche sale a la bolsa y crisis mercados tras...   \n",
       "3    la recesion economica de 2023 ¿una oportunidad...   \n",
       "4    conconcreto en reorganizacion - ¿que significa...   \n",
       "..                                                 ...   \n",
       "216  bitcoin: cuidado | crypto | btc. para decirles...   \n",
       "217  bitcoin en español | bitcoin noticias | bitcoi...   \n",
       "218  bitcoin: podría llegar a los 24,700 otra vez |...   \n",
       "219  bitcoin: cuidado con esto. a ver ahora sí pare...   \n",
       "220  seize the moment! trading strategies for wave ...   \n",
       "\n",
       "                                               summary  \n",
       "0    - **Introducción:**  \\nEl texto analiza de man...  \n",
       "1    - **Introducción:**  \\nEl texto analiza los re...  \n",
       "2    - **Introducción:**  \\nEl texto analiza la sal...  \n",
       "3    **Informe de Análisis: Recesión Económica de 2...  \n",
       "4    - **Introducción:**  \\nEl texto analiza la sit...  \n",
       "..                                                 ...  \n",
       "216  - **Introducción:**  \\nEl texto analizado ofre...  \n",
       "217  - **Introducción:**  \\nEl texto analizado corr...  \n",
       "218  **Informe de Análisis de Mercado Cripto**\\n\\n-...  \n",
       "219  - **Introducción:**  \\nEl texto analizado corr...  \n",
       "220  - **Introducción:**  \\nEl texto analiza estrat...  \n",
       "\n",
       "[221 rows x 5 columns]"
      ]
     },
     "execution_count": 9,
     "metadata": {},
     "output_type": "execute_result"
    }
   ],
   "source": [
    "selected_columns = ['video_id', 'channel_name','prompt','text', 'summary',]\n",
    "df_test_slm = df_test[selected_columns]\n",
    "df_test_slm"
   ]
  },
  {
   "cell_type": "code",
   "execution_count": 25,
   "metadata": {},
   "outputs": [],
   "source": [
    "def generate_summaries(df, models:list, prompts:list):\n",
    "    from app.llm.llm import SummaryLlm\n",
    "    \n",
    "    def add_llm_summary_column(df, summary_llm, col_name=\"slm_summary\"):\n",
    "        df[col_name] = df[\"text\"].apply(lambda x: summary_llm.summarize(x))\n",
    "        return df\n",
    "\n",
    "    def add_prompt_column(df, summary_llm, col_name=\"slm_prompt\"):\n",
    "        df[col_name] = df[\"text\"].apply(lambda x: summary_llm.summary_prompt_template.replace(\"{context}\", x))\n",
    "        return df\n",
    "   \n",
    "    df_in= df.copy()\n",
    "    for model in models:\n",
    "        for prompt in prompts:\n",
    "            model_name = model.split('/')[-1]\n",
    "            file_name = f\"test_slm_{model_name.replace('.','_').replace(':','_').replace('-','_')}_{prompt}\"\n",
    "            llm_config = {\n",
    "                \"type\": \"ollama\",\n",
    "                \"model\": model,\n",
    "                \"base_url\": \"http://localhost:11434\",\n",
    "            }\n",
    "            summary_llm = SummaryLlm(config=llm_config, prompt_name=prompt)\n",
    "            add_prompt_column(df_in, summary_llm, col_name=\"slm_prompt\")\n",
    "            add_llm_summary_column(df_in, summary_llm, col_name=\"slm_summary\")\n",
    "            print(f\"Saving summaries for {file_name}\")\n",
    "            df_in.to_csv(f\"data/slm_summaries/{file_name}.csv\", sep=\";\",index=False)"
   ]
  },
  {
   "cell_type": "code",
   "execution_count": null,
   "metadata": {},
   "outputs": [
    {
     "name": "stderr",
     "output_type": "stream",
     "text": [
      "/var/folders/0z/3s22b27525jc3bm0m923h36h3wg489/T/ipykernel_2913/3023289599.py:6: SettingWithCopyWarning: \n",
      "A value is trying to be set on a copy of a slice from a DataFrame.\n",
      "Try using .loc[row_indexer,col_indexer] = value instead\n",
      "\n",
      "See the caveats in the documentation: https://pandas.pydata.org/pandas-docs/stable/user_guide/indexing.html#returning-a-view-versus-a-copy\n",
      "  df[col_name] = df[\"text\"].apply(lambda x: summary_llm.summary_prompt_template.replace(\"{context}\", x))\n",
      "/var/folders/0z/3s22b27525jc3bm0m923h36h3wg489/T/ipykernel_2913/3023289599.py:2: SettingWithCopyWarning: \n",
      "A value is trying to be set on a copy of a slice from a DataFrame.\n",
      "Try using .loc[row_indexer,col_indexer] = value instead\n",
      "\n",
      "See the caveats in the documentation: https://pandas.pydata.org/pandas-docs/stable/user_guide/indexing.html#returning-a-view-versus-a-copy\n",
      "  df[col_name] = df[\"text\"].apply(lambda x: summary_llm.summarize(x))\n"
     ]
    },
    {
     "name": "stdout",
     "output_type": "stream",
     "text": [
      "Saving summaries for test_slm_llama3_2_3b_instruct_fp16_v1_summary_expert_one_shot\n"
     ]
    },
    {
     "name": "stderr",
     "output_type": "stream",
     "text": [
      "/var/folders/0z/3s22b27525jc3bm0m923h36h3wg489/T/ipykernel_2913/3023289599.py:6: SettingWithCopyWarning: \n",
      "A value is trying to be set on a copy of a slice from a DataFrame.\n",
      "Try using .loc[row_indexer,col_indexer] = value instead\n",
      "\n",
      "See the caveats in the documentation: https://pandas.pydata.org/pandas-docs/stable/user_guide/indexing.html#returning-a-view-versus-a-copy\n",
      "  df[col_name] = df[\"text\"].apply(lambda x: summary_llm.summary_prompt_template.replace(\"{context}\", x))\n",
      "/var/folders/0z/3s22b27525jc3bm0m923h36h3wg489/T/ipykernel_2913/3023289599.py:2: SettingWithCopyWarning: \n",
      "A value is trying to be set on a copy of a slice from a DataFrame.\n",
      "Try using .loc[row_indexer,col_indexer] = value instead\n",
      "\n",
      "See the caveats in the documentation: https://pandas.pydata.org/pandas-docs/stable/user_guide/indexing.html#returning-a-view-versus-a-copy\n",
      "  df[col_name] = df[\"text\"].apply(lambda x: summary_llm.summarize(x))\n",
      "/var/folders/0z/3s22b27525jc3bm0m923h36h3wg489/T/ipykernel_2913/3023289599.py:6: SettingWithCopyWarning: \n",
      "A value is trying to be set on a copy of a slice from a DataFrame.\n",
      "Try using .loc[row_indexer,col_indexer] = value instead\n",
      "\n",
      "See the caveats in the documentation: https://pandas.pydata.org/pandas-docs/stable/user_guide/indexing.html#returning-a-view-versus-a-copy\n",
      "  df[col_name] = df[\"text\"].apply(lambda x: summary_llm.summary_prompt_template.replace(\"{context}\", x))\n"
     ]
    },
    {
     "name": "stdout",
     "output_type": "stream",
     "text": [
      "Saving summaries for test_slm_llama3_2_3b_instruct_fp16_v1_summary_expert\n"
     ]
    },
    {
     "name": "stderr",
     "output_type": "stream",
     "text": [
      "/var/folders/0z/3s22b27525jc3bm0m923h36h3wg489/T/ipykernel_2913/3023289599.py:2: SettingWithCopyWarning: \n",
      "A value is trying to be set on a copy of a slice from a DataFrame.\n",
      "Try using .loc[row_indexer,col_indexer] = value instead\n",
      "\n",
      "See the caveats in the documentation: https://pandas.pydata.org/pandas-docs/stable/user_guide/indexing.html#returning-a-view-versus-a-copy\n",
      "  df[col_name] = df[\"text\"].apply(lambda x: summary_llm.summarize(x))\n"
     ]
    },
    {
     "name": "stdout",
     "output_type": "stream",
     "text": [
      "Saving summaries for test_slm_llama3_2_3b_instruct_fp16_v2_summary_expert_one_shot\n"
     ]
    },
    {
     "name": "stderr",
     "output_type": "stream",
     "text": [
      "/var/folders/0z/3s22b27525jc3bm0m923h36h3wg489/T/ipykernel_2913/3023289599.py:6: SettingWithCopyWarning: \n",
      "A value is trying to be set on a copy of a slice from a DataFrame.\n",
      "Try using .loc[row_indexer,col_indexer] = value instead\n",
      "\n",
      "See the caveats in the documentation: https://pandas.pydata.org/pandas-docs/stable/user_guide/indexing.html#returning-a-view-versus-a-copy\n",
      "  df[col_name] = df[\"text\"].apply(lambda x: summary_llm.summary_prompt_template.replace(\"{context}\", x))\n",
      "/var/folders/0z/3s22b27525jc3bm0m923h36h3wg489/T/ipykernel_2913/3023289599.py:2: SettingWithCopyWarning: \n",
      "A value is trying to be set on a copy of a slice from a DataFrame.\n",
      "Try using .loc[row_indexer,col_indexer] = value instead\n",
      "\n",
      "See the caveats in the documentation: https://pandas.pydata.org/pandas-docs/stable/user_guide/indexing.html#returning-a-view-versus-a-copy\n",
      "  df[col_name] = df[\"text\"].apply(lambda x: summary_llm.summarize(x))\n",
      "/var/folders/0z/3s22b27525jc3bm0m923h36h3wg489/T/ipykernel_2913/3023289599.py:6: SettingWithCopyWarning: \n",
      "A value is trying to be set on a copy of a slice from a DataFrame.\n",
      "Try using .loc[row_indexer,col_indexer] = value instead\n",
      "\n",
      "See the caveats in the documentation: https://pandas.pydata.org/pandas-docs/stable/user_guide/indexing.html#returning-a-view-versus-a-copy\n",
      "  df[col_name] = df[\"text\"].apply(lambda x: summary_llm.summary_prompt_template.replace(\"{context}\", x))\n"
     ]
    },
    {
     "name": "stdout",
     "output_type": "stream",
     "text": [
      "Saving summaries for test_slm_llama3_2_3b_instruct_fp16_v2_summary_expert\n"
     ]
    },
    {
     "name": "stderr",
     "output_type": "stream",
     "text": [
      "/var/folders/0z/3s22b27525jc3bm0m923h36h3wg489/T/ipykernel_2913/3023289599.py:2: SettingWithCopyWarning: \n",
      "A value is trying to be set on a copy of a slice from a DataFrame.\n",
      "Try using .loc[row_indexer,col_indexer] = value instead\n",
      "\n",
      "See the caveats in the documentation: https://pandas.pydata.org/pandas-docs/stable/user_guide/indexing.html#returning-a-view-versus-a-copy\n",
      "  df[col_name] = df[\"text\"].apply(lambda x: summary_llm.summarize(x))\n"
     ]
    },
    {
     "name": "stdout",
     "output_type": "stream",
     "text": [
      "Saving summaries for test_slm_llama3_2_3b_instruct_fp16_v3_summary_expert\n"
     ]
    },
    {
     "name": "stderr",
     "output_type": "stream",
     "text": [
      "/var/folders/0z/3s22b27525jc3bm0m923h36h3wg489/T/ipykernel_2913/3023289599.py:6: SettingWithCopyWarning: \n",
      "A value is trying to be set on a copy of a slice from a DataFrame.\n",
      "Try using .loc[row_indexer,col_indexer] = value instead\n",
      "\n",
      "See the caveats in the documentation: https://pandas.pydata.org/pandas-docs/stable/user_guide/indexing.html#returning-a-view-versus-a-copy\n",
      "  df[col_name] = df[\"text\"].apply(lambda x: summary_llm.summary_prompt_template.replace(\"{context}\", x))\n",
      "/var/folders/0z/3s22b27525jc3bm0m923h36h3wg489/T/ipykernel_2913/3023289599.py:2: SettingWithCopyWarning: \n",
      "A value is trying to be set on a copy of a slice from a DataFrame.\n",
      "Try using .loc[row_indexer,col_indexer] = value instead\n",
      "\n",
      "See the caveats in the documentation: https://pandas.pydata.org/pandas-docs/stable/user_guide/indexing.html#returning-a-view-versus-a-copy\n",
      "  df[col_name] = df[\"text\"].apply(lambda x: summary_llm.summarize(x))\n"
     ]
    },
    {
     "name": "stdout",
     "output_type": "stream",
     "text": [
      "Saving summaries for test_slm_phi4_latest_v1_summary_expert_one_shot\n"
     ]
    },
    {
     "name": "stderr",
     "output_type": "stream",
     "text": [
      "/var/folders/0z/3s22b27525jc3bm0m923h36h3wg489/T/ipykernel_2913/3023289599.py:6: SettingWithCopyWarning: \n",
      "A value is trying to be set on a copy of a slice from a DataFrame.\n",
      "Try using .loc[row_indexer,col_indexer] = value instead\n",
      "\n",
      "See the caveats in the documentation: https://pandas.pydata.org/pandas-docs/stable/user_guide/indexing.html#returning-a-view-versus-a-copy\n",
      "  df[col_name] = df[\"text\"].apply(lambda x: summary_llm.summary_prompt_template.replace(\"{context}\", x))\n",
      "/var/folders/0z/3s22b27525jc3bm0m923h36h3wg489/T/ipykernel_2913/3023289599.py:2: SettingWithCopyWarning: \n",
      "A value is trying to be set on a copy of a slice from a DataFrame.\n",
      "Try using .loc[row_indexer,col_indexer] = value instead\n",
      "\n",
      "See the caveats in the documentation: https://pandas.pydata.org/pandas-docs/stable/user_guide/indexing.html#returning-a-view-versus-a-copy\n",
      "  df[col_name] = df[\"text\"].apply(lambda x: summary_llm.summarize(x))\n"
     ]
    },
    {
     "name": "stdout",
     "output_type": "stream",
     "text": [
      "Saving summaries for test_slm_phi4_latest_v1_summary_expert\n"
     ]
    },
    {
     "name": "stderr",
     "output_type": "stream",
     "text": [
      "/var/folders/0z/3s22b27525jc3bm0m923h36h3wg489/T/ipykernel_2913/3023289599.py:6: SettingWithCopyWarning: \n",
      "A value is trying to be set on a copy of a slice from a DataFrame.\n",
      "Try using .loc[row_indexer,col_indexer] = value instead\n",
      "\n",
      "See the caveats in the documentation: https://pandas.pydata.org/pandas-docs/stable/user_guide/indexing.html#returning-a-view-versus-a-copy\n",
      "  df[col_name] = df[\"text\"].apply(lambda x: summary_llm.summary_prompt_template.replace(\"{context}\", x))\n",
      "/var/folders/0z/3s22b27525jc3bm0m923h36h3wg489/T/ipykernel_2913/3023289599.py:2: SettingWithCopyWarning: \n",
      "A value is trying to be set on a copy of a slice from a DataFrame.\n",
      "Try using .loc[row_indexer,col_indexer] = value instead\n",
      "\n",
      "See the caveats in the documentation: https://pandas.pydata.org/pandas-docs/stable/user_guide/indexing.html#returning-a-view-versus-a-copy\n",
      "  df[col_name] = df[\"text\"].apply(lambda x: summary_llm.summarize(x))\n"
     ]
    },
    {
     "name": "stdout",
     "output_type": "stream",
     "text": [
      "Saving summaries for test_slm_phi4_latest_v2_summary_expert_one_shot\n"
     ]
    },
    {
     "name": "stderr",
     "output_type": "stream",
     "text": [
      "/var/folders/0z/3s22b27525jc3bm0m923h36h3wg489/T/ipykernel_2913/3023289599.py:6: SettingWithCopyWarning: \n",
      "A value is trying to be set on a copy of a slice from a DataFrame.\n",
      "Try using .loc[row_indexer,col_indexer] = value instead\n",
      "\n",
      "See the caveats in the documentation: https://pandas.pydata.org/pandas-docs/stable/user_guide/indexing.html#returning-a-view-versus-a-copy\n",
      "  df[col_name] = df[\"text\"].apply(lambda x: summary_llm.summary_prompt_template.replace(\"{context}\", x))\n",
      "/var/folders/0z/3s22b27525jc3bm0m923h36h3wg489/T/ipykernel_2913/3023289599.py:2: SettingWithCopyWarning: \n",
      "A value is trying to be set on a copy of a slice from a DataFrame.\n",
      "Try using .loc[row_indexer,col_indexer] = value instead\n",
      "\n",
      "See the caveats in the documentation: https://pandas.pydata.org/pandas-docs/stable/user_guide/indexing.html#returning-a-view-versus-a-copy\n",
      "  df[col_name] = df[\"text\"].apply(lambda x: summary_llm.summarize(x))\n"
     ]
    },
    {
     "name": "stdout",
     "output_type": "stream",
     "text": [
      "Saving summaries for test_slm_phi4_latest_v2_summary_expert\n"
     ]
    },
    {
     "name": "stderr",
     "output_type": "stream",
     "text": [
      "/var/folders/0z/3s22b27525jc3bm0m923h36h3wg489/T/ipykernel_2913/3023289599.py:6: SettingWithCopyWarning: \n",
      "A value is trying to be set on a copy of a slice from a DataFrame.\n",
      "Try using .loc[row_indexer,col_indexer] = value instead\n",
      "\n",
      "See the caveats in the documentation: https://pandas.pydata.org/pandas-docs/stable/user_guide/indexing.html#returning-a-view-versus-a-copy\n",
      "  df[col_name] = df[\"text\"].apply(lambda x: summary_llm.summary_prompt_template.replace(\"{context}\", x))\n",
      "/var/folders/0z/3s22b27525jc3bm0m923h36h3wg489/T/ipykernel_2913/3023289599.py:2: SettingWithCopyWarning: \n",
      "A value is trying to be set on a copy of a slice from a DataFrame.\n",
      "Try using .loc[row_indexer,col_indexer] = value instead\n",
      "\n",
      "See the caveats in the documentation: https://pandas.pydata.org/pandas-docs/stable/user_guide/indexing.html#returning-a-view-versus-a-copy\n",
      "  df[col_name] = df[\"text\"].apply(lambda x: summary_llm.summarize(x))\n"
     ]
    },
    {
     "name": "stdout",
     "output_type": "stream",
     "text": [
      "Saving summaries for test_slm_phi4_latest_v3_summary_expert\n"
     ]
    },
    {
     "name": "stderr",
     "output_type": "stream",
     "text": [
      "/var/folders/0z/3s22b27525jc3bm0m923h36h3wg489/T/ipykernel_2913/3023289599.py:6: SettingWithCopyWarning: \n",
      "A value is trying to be set on a copy of a slice from a DataFrame.\n",
      "Try using .loc[row_indexer,col_indexer] = value instead\n",
      "\n",
      "See the caveats in the documentation: https://pandas.pydata.org/pandas-docs/stable/user_guide/indexing.html#returning-a-view-versus-a-copy\n",
      "  df[col_name] = df[\"text\"].apply(lambda x: summary_llm.summary_prompt_template.replace(\"{context}\", x))\n",
      "/var/folders/0z/3s22b27525jc3bm0m923h36h3wg489/T/ipykernel_2913/3023289599.py:2: SettingWithCopyWarning: \n",
      "A value is trying to be set on a copy of a slice from a DataFrame.\n",
      "Try using .loc[row_indexer,col_indexer] = value instead\n",
      "\n",
      "See the caveats in the documentation: https://pandas.pydata.org/pandas-docs/stable/user_guide/indexing.html#returning-a-view-versus-a-copy\n",
      "  df[col_name] = df[\"text\"].apply(lambda x: summary_llm.summarize(x))\n"
     ]
    },
    {
     "name": "stdout",
     "output_type": "stream",
     "text": [
      "Saving summaries for test_slm_deepseek_r1_8b_v1_summary_expert_one_shot\n"
     ]
    },
    {
     "name": "stderr",
     "output_type": "stream",
     "text": [
      "/var/folders/0z/3s22b27525jc3bm0m923h36h3wg489/T/ipykernel_2913/3023289599.py:6: SettingWithCopyWarning: \n",
      "A value is trying to be set on a copy of a slice from a DataFrame.\n",
      "Try using .loc[row_indexer,col_indexer] = value instead\n",
      "\n",
      "See the caveats in the documentation: https://pandas.pydata.org/pandas-docs/stable/user_guide/indexing.html#returning-a-view-versus-a-copy\n",
      "  df[col_name] = df[\"text\"].apply(lambda x: summary_llm.summary_prompt_template.replace(\"{context}\", x))\n",
      "/var/folders/0z/3s22b27525jc3bm0m923h36h3wg489/T/ipykernel_2913/3023289599.py:2: SettingWithCopyWarning: \n",
      "A value is trying to be set on a copy of a slice from a DataFrame.\n",
      "Try using .loc[row_indexer,col_indexer] = value instead\n",
      "\n",
      "See the caveats in the documentation: https://pandas.pydata.org/pandas-docs/stable/user_guide/indexing.html#returning-a-view-versus-a-copy\n",
      "  df[col_name] = df[\"text\"].apply(lambda x: summary_llm.summarize(x))\n"
     ]
    },
    {
     "name": "stdout",
     "output_type": "stream",
     "text": [
      "Saving summaries for test_slm_deepseek_r1_8b_v1_summary_expert\n"
     ]
    },
    {
     "name": "stderr",
     "output_type": "stream",
     "text": [
      "/var/folders/0z/3s22b27525jc3bm0m923h36h3wg489/T/ipykernel_2913/3023289599.py:6: SettingWithCopyWarning: \n",
      "A value is trying to be set on a copy of a slice from a DataFrame.\n",
      "Try using .loc[row_indexer,col_indexer] = value instead\n",
      "\n",
      "See the caveats in the documentation: https://pandas.pydata.org/pandas-docs/stable/user_guide/indexing.html#returning-a-view-versus-a-copy\n",
      "  df[col_name] = df[\"text\"].apply(lambda x: summary_llm.summary_prompt_template.replace(\"{context}\", x))\n",
      "/var/folders/0z/3s22b27525jc3bm0m923h36h3wg489/T/ipykernel_2913/3023289599.py:2: SettingWithCopyWarning: \n",
      "A value is trying to be set on a copy of a slice from a DataFrame.\n",
      "Try using .loc[row_indexer,col_indexer] = value instead\n",
      "\n",
      "See the caveats in the documentation: https://pandas.pydata.org/pandas-docs/stable/user_guide/indexing.html#returning-a-view-versus-a-copy\n",
      "  df[col_name] = df[\"text\"].apply(lambda x: summary_llm.summarize(x))\n"
     ]
    },
    {
     "name": "stdout",
     "output_type": "stream",
     "text": [
      "Saving summaries for test_slm_deepseek_r1_8b_v2_summary_expert_one_shot\n"
     ]
    },
    {
     "name": "stderr",
     "output_type": "stream",
     "text": [
      "/var/folders/0z/3s22b27525jc3bm0m923h36h3wg489/T/ipykernel_2913/3023289599.py:6: SettingWithCopyWarning: \n",
      "A value is trying to be set on a copy of a slice from a DataFrame.\n",
      "Try using .loc[row_indexer,col_indexer] = value instead\n",
      "\n",
      "See the caveats in the documentation: https://pandas.pydata.org/pandas-docs/stable/user_guide/indexing.html#returning-a-view-versus-a-copy\n",
      "  df[col_name] = df[\"text\"].apply(lambda x: summary_llm.summary_prompt_template.replace(\"{context}\", x))\n",
      "/var/folders/0z/3s22b27525jc3bm0m923h36h3wg489/T/ipykernel_2913/3023289599.py:2: SettingWithCopyWarning: \n",
      "A value is trying to be set on a copy of a slice from a DataFrame.\n",
      "Try using .loc[row_indexer,col_indexer] = value instead\n",
      "\n",
      "See the caveats in the documentation: https://pandas.pydata.org/pandas-docs/stable/user_guide/indexing.html#returning-a-view-versus-a-copy\n",
      "  df[col_name] = df[\"text\"].apply(lambda x: summary_llm.summarize(x))\n"
     ]
    },
    {
     "name": "stdout",
     "output_type": "stream",
     "text": [
      "Saving summaries for test_slm_deepseek_r1_8b_v2_summary_expert\n"
     ]
    },
    {
     "name": "stderr",
     "output_type": "stream",
     "text": [
      "/var/folders/0z/3s22b27525jc3bm0m923h36h3wg489/T/ipykernel_2913/3023289599.py:6: SettingWithCopyWarning: \n",
      "A value is trying to be set on a copy of a slice from a DataFrame.\n",
      "Try using .loc[row_indexer,col_indexer] = value instead\n",
      "\n",
      "See the caveats in the documentation: https://pandas.pydata.org/pandas-docs/stable/user_guide/indexing.html#returning-a-view-versus-a-copy\n",
      "  df[col_name] = df[\"text\"].apply(lambda x: summary_llm.summary_prompt_template.replace(\"{context}\", x))\n"
     ]
    },
    {
     "name": "stdout",
     "output_type": "stream",
     "text": [
      "Saving summaries for test_slm_deepseek_r1_8b_v3_summary_expert\n"
     ]
    },
    {
     "name": "stderr",
     "output_type": "stream",
     "text": [
      "/var/folders/0z/3s22b27525jc3bm0m923h36h3wg489/T/ipykernel_2913/3023289599.py:2: SettingWithCopyWarning: \n",
      "A value is trying to be set on a copy of a slice from a DataFrame.\n",
      "Try using .loc[row_indexer,col_indexer] = value instead\n",
      "\n",
      "See the caveats in the documentation: https://pandas.pydata.org/pandas-docs/stable/user_guide/indexing.html#returning-a-view-versus-a-copy\n",
      "  df[col_name] = df[\"text\"].apply(lambda x: summary_llm.summarize(x))\n"
     ]
    }
   ],
   "source": [
    "prompts =['v1_summary_expert_one_shot', 'v1_summary_expert','v2_summary_expert_one_shot','v2_summary_expert','v3_summary_expert']\n",
    "models = ['llama3.2:3b-instruct-fp16', 'phi4:latest','deepseek-r1:8b']\n",
    "generate_summaries(df_test_slm, models, prompts)"
   ]
  },
  {
   "cell_type": "code",
   "execution_count": null,
   "metadata": {},
   "outputs": [
    {
     "name": "stderr",
     "output_type": "stream",
     "text": [
      "/var/folders/0z/3s22b27525jc3bm0m923h36h3wg489/T/ipykernel_2913/3023289599.py:6: SettingWithCopyWarning: \n",
      "A value is trying to be set on a copy of a slice from a DataFrame.\n",
      "Try using .loc[row_indexer,col_indexer] = value instead\n",
      "\n",
      "See the caveats in the documentation: https://pandas.pydata.org/pandas-docs/stable/user_guide/indexing.html#returning-a-view-versus-a-copy\n",
      "  df[col_name] = df[\"text\"].apply(lambda x: summary_llm.summary_prompt_template.replace(\"{context}\", x))\n",
      "/var/folders/0z/3s22b27525jc3bm0m923h36h3wg489/T/ipykernel_2913/3023289599.py:2: SettingWithCopyWarning: \n",
      "A value is trying to be set on a copy of a slice from a DataFrame.\n",
      "Try using .loc[row_indexer,col_indexer] = value instead\n",
      "\n",
      "See the caveats in the documentation: https://pandas.pydata.org/pandas-docs/stable/user_guide/indexing.html#returning-a-view-versus-a-copy\n",
      "  df[col_name] = df[\"text\"].apply(lambda x: summary_llm.summarize(x))\n"
     ]
    },
    {
     "name": "stdout",
     "output_type": "stream",
     "text": [
      "Saving summaries for test_slm_llama3_2_1b_instruct_fp16_v1_summary_expert_one_shot\n"
     ]
    },
    {
     "name": "stderr",
     "output_type": "stream",
     "text": [
      "/var/folders/0z/3s22b27525jc3bm0m923h36h3wg489/T/ipykernel_2913/3023289599.py:6: SettingWithCopyWarning: \n",
      "A value is trying to be set on a copy of a slice from a DataFrame.\n",
      "Try using .loc[row_indexer,col_indexer] = value instead\n",
      "\n",
      "See the caveats in the documentation: https://pandas.pydata.org/pandas-docs/stable/user_guide/indexing.html#returning-a-view-versus-a-copy\n",
      "  df[col_name] = df[\"text\"].apply(lambda x: summary_llm.summary_prompt_template.replace(\"{context}\", x))\n",
      "/var/folders/0z/3s22b27525jc3bm0m923h36h3wg489/T/ipykernel_2913/3023289599.py:2: SettingWithCopyWarning: \n",
      "A value is trying to be set on a copy of a slice from a DataFrame.\n",
      "Try using .loc[row_indexer,col_indexer] = value instead\n",
      "\n",
      "See the caveats in the documentation: https://pandas.pydata.org/pandas-docs/stable/user_guide/indexing.html#returning-a-view-versus-a-copy\n",
      "  df[col_name] = df[\"text\"].apply(lambda x: summary_llm.summarize(x))\n"
     ]
    },
    {
     "name": "stdout",
     "output_type": "stream",
     "text": [
      "Saving summaries for test_slm_llama3_2_1b_instruct_fp16_v1_summary_expert\n"
     ]
    },
    {
     "name": "stderr",
     "output_type": "stream",
     "text": [
      "/var/folders/0z/3s22b27525jc3bm0m923h36h3wg489/T/ipykernel_2913/3023289599.py:6: SettingWithCopyWarning: \n",
      "A value is trying to be set on a copy of a slice from a DataFrame.\n",
      "Try using .loc[row_indexer,col_indexer] = value instead\n",
      "\n",
      "See the caveats in the documentation: https://pandas.pydata.org/pandas-docs/stable/user_guide/indexing.html#returning-a-view-versus-a-copy\n",
      "  df[col_name] = df[\"text\"].apply(lambda x: summary_llm.summary_prompt_template.replace(\"{context}\", x))\n",
      "/var/folders/0z/3s22b27525jc3bm0m923h36h3wg489/T/ipykernel_2913/3023289599.py:2: SettingWithCopyWarning: \n",
      "A value is trying to be set on a copy of a slice from a DataFrame.\n",
      "Try using .loc[row_indexer,col_indexer] = value instead\n",
      "\n",
      "See the caveats in the documentation: https://pandas.pydata.org/pandas-docs/stable/user_guide/indexing.html#returning-a-view-versus-a-copy\n",
      "  df[col_name] = df[\"text\"].apply(lambda x: summary_llm.summarize(x))\n"
     ]
    },
    {
     "name": "stdout",
     "output_type": "stream",
     "text": [
      "Saving summaries for test_slm_llama3_2_1b_instruct_fp16_v2_summary_expert_one_shot\n"
     ]
    },
    {
     "name": "stderr",
     "output_type": "stream",
     "text": [
      "/var/folders/0z/3s22b27525jc3bm0m923h36h3wg489/T/ipykernel_2913/3023289599.py:6: SettingWithCopyWarning: \n",
      "A value is trying to be set on a copy of a slice from a DataFrame.\n",
      "Try using .loc[row_indexer,col_indexer] = value instead\n",
      "\n",
      "See the caveats in the documentation: https://pandas.pydata.org/pandas-docs/stable/user_guide/indexing.html#returning-a-view-versus-a-copy\n",
      "  df[col_name] = df[\"text\"].apply(lambda x: summary_llm.summary_prompt_template.replace(\"{context}\", x))\n",
      "/var/folders/0z/3s22b27525jc3bm0m923h36h3wg489/T/ipykernel_2913/3023289599.py:2: SettingWithCopyWarning: \n",
      "A value is trying to be set on a copy of a slice from a DataFrame.\n",
      "Try using .loc[row_indexer,col_indexer] = value instead\n",
      "\n",
      "See the caveats in the documentation: https://pandas.pydata.org/pandas-docs/stable/user_guide/indexing.html#returning-a-view-versus-a-copy\n",
      "  df[col_name] = df[\"text\"].apply(lambda x: summary_llm.summarize(x))\n"
     ]
    },
    {
     "name": "stdout",
     "output_type": "stream",
     "text": [
      "Saving summaries for test_slm_llama3_2_1b_instruct_fp16_v2_summary_expert\n"
     ]
    },
    {
     "name": "stderr",
     "output_type": "stream",
     "text": [
      "/var/folders/0z/3s22b27525jc3bm0m923h36h3wg489/T/ipykernel_2913/3023289599.py:6: SettingWithCopyWarning: \n",
      "A value is trying to be set on a copy of a slice from a DataFrame.\n",
      "Try using .loc[row_indexer,col_indexer] = value instead\n",
      "\n",
      "See the caveats in the documentation: https://pandas.pydata.org/pandas-docs/stable/user_guide/indexing.html#returning-a-view-versus-a-copy\n",
      "  df[col_name] = df[\"text\"].apply(lambda x: summary_llm.summary_prompt_template.replace(\"{context}\", x))\n",
      "/var/folders/0z/3s22b27525jc3bm0m923h36h3wg489/T/ipykernel_2913/3023289599.py:2: SettingWithCopyWarning: \n",
      "A value is trying to be set on a copy of a slice from a DataFrame.\n",
      "Try using .loc[row_indexer,col_indexer] = value instead\n",
      "\n",
      "See the caveats in the documentation: https://pandas.pydata.org/pandas-docs/stable/user_guide/indexing.html#returning-a-view-versus-a-copy\n",
      "  df[col_name] = df[\"text\"].apply(lambda x: summary_llm.summarize(x))\n"
     ]
    },
    {
     "name": "stdout",
     "output_type": "stream",
     "text": [
      "Saving summaries for test_slm_llama3_2_1b_instruct_fp16_v3_summary_expert\n"
     ]
    }
   ],
   "source": [
    "prompts =['v1_summary_expert_one_shot', 'v1_summary_expert','v2_summary_expert_one_shot','v2_summary_expert','v3_summary_expert']\n",
    "models = ['llama3.2:1b-instruct-fp16']\n",
    "\n",
    "generate_summaries(df_test_slm, models, prompts)"
   ]
  },
  {
   "cell_type": "markdown",
   "metadata": {},
   "source": [
    "# using finetunning models"
   ]
  },
  {
   "cell_type": "code",
   "execution_count": 37,
   "metadata": {},
   "outputs": [
    {
     "name": "stdout",
     "output_type": "stream",
     "text": [
      "Saving summaries for test_slm_hf_llama_3_2_3b_finetuned_qlora_bnb_nf4_v2_gguf_latest_v3_summary_expert\n",
      "Saving summaries for test_slm_llama_3_2_1b_finetuned_qlora_v5_gguf_latest_v3_summary_expert\n"
     ]
    }
   ],
   "source": [
    "prompts =['v3_summary_expert']#,'v2_summary_expert','v1_summary_expert']\n",
    "models = ['hf.co/AndresR2909/hf-llama-3.2-3b-finetuned_qlora_bnb_nf4_v2_gguf:latest',\n",
    "          'hf.co/AndresR2909/llama-3.2-1b-finetuned_qlora_v5_gguf:latest']\n",
    "generate_summaries(df_test_slm, models, prompts)"
   ]
  },
  {
   "cell_type": "code",
   "execution_count": 36,
   "metadata": {},
   "outputs": [
    {
     "name": "stdout",
     "output_type": "stream",
     "text": [
      "Saving summaries for test_slm_llama_3_2_3b_finetuned_qlora_bnb_nf4_v2_gguf_q8_0_latest_v3_summary_expert\n"
     ]
    }
   ],
   "source": [
    "prompts =['v3_summary_expert']#,'v2_summary_expert','v1_summary_expert']\n",
    "models = ['hf.co/AndresR2909/llama-3.2-3b-finetuned_qlora_bnb_nf4_v2-gguf_q8_0:latest']\n",
    "generate_summaries(df_test_slm, models, prompts)"
   ]
  }
 ],
 "metadata": {
  "kernelspec": {
   "display_name": ".venv",
   "language": "python",
   "name": "python3"
  },
  "language_info": {
   "codemirror_mode": {
    "name": "ipython",
    "version": 3
   },
   "file_extension": ".py",
   "mimetype": "text/x-python",
   "name": "python",
   "nbconvert_exporter": "python",
   "pygments_lexer": "ipython3",
   "version": "3.12.4"
  }
 },
 "nbformat": 4,
 "nbformat_minor": 2
}
