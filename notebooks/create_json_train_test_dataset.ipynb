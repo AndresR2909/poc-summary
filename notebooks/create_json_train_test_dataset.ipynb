{
 "cells": [
  {
   "cell_type": "code",
   "execution_count": 1,
   "id": "ad3137d7",
   "metadata": {},
   "outputs": [
    {
     "name": "stderr",
     "output_type": "stream",
     "text": [
      "/Users/andrestrepo/Documents/repos_personal/poc-summary/.venv/lib/python3.12/site-packages/tqdm/auto.py:21: TqdmWarning: IProgress not found. Please update jupyter and ipywidgets. See https://ipywidgets.readthedocs.io/en/stable/user_install.html\n",
      "  from .autonotebook import tqdm as notebook_tqdm\n"
     ]
    }
   ],
   "source": [
    "import os\n",
    "from dotenv import load_dotenv\n",
    "from huggingface_hub import login\n",
    "import pandas as pd"
   ]
  },
  {
   "cell_type": "code",
   "execution_count": 16,
   "id": "6dae0c01",
   "metadata": {},
   "outputs": [],
   "source": [
    "os.chdir('..')"
   ]
  },
  {
   "cell_type": "markdown",
   "id": "8653c6c7",
   "metadata": {},
   "source": [
    "# cargar y crear datasets de test y entrenamiento en formato json"
   ]
  },
  {
   "cell_type": "code",
   "execution_count": 2,
   "id": "06974934",
   "metadata": {},
   "outputs": [
    {
     "name": "stderr",
     "output_type": "stream",
     "text": [
      "Note: Environment variable`HF_TOKEN` is set and is the current active token independently from the token you've just configured.\n"
     ]
    }
   ],
   "source": [
    "load_dotenv()\n",
    "login(token = os.environ.get(\"HF_TOKEN\") )\n",
    "dataset_name = \"AndresR2909/youtube_transcriptions_summaries_2025_gpt4.1\""
   ]
  },
  {
   "cell_type": "code",
   "execution_count": 3,
   "id": "4ab00905",
   "metadata": {},
   "outputs": [],
   "source": [
    "splits = {'train': 'data/train-00000-of-00001.parquet', 'test': 'data/test-00000-of-00001.parquet'}\n",
    "df_test = pd.read_parquet(f\"hf://datasets/{dataset_name}/\" + splits[\"test\"])\n",
    "df_train = pd.read_parquet(f\"hf://datasets/{dataset_name}/\" + splits[\"train\"])"
   ]
  },
  {
   "cell_type": "code",
   "execution_count": 5,
   "id": "67aaf6cb",
   "metadata": {},
   "outputs": [
    {
     "name": "stdout",
     "output_type": "stream",
     "text": [
      "<class 'pandas.core.frame.DataFrame'>\n",
      "RangeIndex: 2004 entries, 0 to 2003\n",
      "Data columns (total 15 columns):\n",
      " #   Column             Non-Null Count  Dtype  \n",
      "---  ------             --------------  -----  \n",
      " 0   channel_name       2004 non-null   object \n",
      " 1   video_id           2004 non-null   object \n",
      " 2   source             2004 non-null   object \n",
      " 3   publish_date       1452 non-null   object \n",
      " 4   duration           2004 non-null   float64\n",
      " 5   last_update_date   2004 non-null   object \n",
      " 6   title              2004 non-null   object \n",
      " 7   text               2004 non-null   object \n",
      " 8   year               2004 non-null   int64  \n",
      " 9   month              1452 non-null   float64\n",
      " 10  number_of_tokenks  2004 non-null   int64  \n",
      " 11  prompt             2004 non-null   object \n",
      " 12  summary            2004 non-null   object \n",
      " 13  key_terms          2004 non-null   object \n",
      " 14  __index_level_0__  2004 non-null   int64  \n",
      "dtypes: float64(2), int64(3), object(10)\n",
      "memory usage: 235.0+ KB\n"
     ]
    }
   ],
   "source": [
    "df_train.info()"
   ]
  },
  {
   "cell_type": "code",
   "execution_count": 6,
   "id": "7af98828",
   "metadata": {},
   "outputs": [
    {
     "name": "stdout",
     "output_type": "stream",
     "text": [
      "<class 'pandas.core.frame.DataFrame'>\n",
      "RangeIndex: 221 entries, 0 to 220\n",
      "Data columns (total 15 columns):\n",
      " #   Column             Non-Null Count  Dtype  \n",
      "---  ------             --------------  -----  \n",
      " 0   channel_name       221 non-null    object \n",
      " 1   video_id           221 non-null    object \n",
      " 2   source             221 non-null    object \n",
      " 3   publish_date       158 non-null    object \n",
      " 4   duration           221 non-null    float64\n",
      " 5   last_update_date   221 non-null    object \n",
      " 6   title              221 non-null    object \n",
      " 7   text               221 non-null    object \n",
      " 8   year               221 non-null    int64  \n",
      " 9   month              158 non-null    float64\n",
      " 10  number_of_tokenks  221 non-null    int64  \n",
      " 11  prompt             221 non-null    object \n",
      " 12  summary            221 non-null    object \n",
      " 13  key_terms          221 non-null    object \n",
      " 14  __index_level_0__  221 non-null    int64  \n",
      "dtypes: float64(2), int64(3), object(10)\n",
      "memory usage: 26.0+ KB\n"
     ]
    }
   ],
   "source": [
    "df_test.info()"
   ]
  },
  {
   "cell_type": "code",
   "execution_count": 9,
   "id": "9a57c4db",
   "metadata": {},
   "outputs": [
    {
     "data": {
      "text/plain": [
       "array(['ARENA ALFA ', 'Bitcoin hoy', 'Bolsas hoy | Esteban Pérez',\n",
       "       'Bolsas hoy | Invierte y Crece ', 'Esteban Perez ',\n",
       "       'USACRYPTONOTICIAS'], dtype=object)"
      ]
     },
     "execution_count": 9,
     "metadata": {},
     "output_type": "execute_result"
    }
   ],
   "source": [
    "df_test['channel_name'].unique()"
   ]
  },
  {
   "cell_type": "code",
   "execution_count": 11,
   "id": "f9fa1417",
   "metadata": {},
   "outputs": [
    {
     "data": {
      "text/plain": [
       "'Actúa como un experto en trading y análisis de mercados financieros.\\n\\nINSTRUCCIONES:\\n1. Analiza el texto proporcionado entre las líneas de guiones.\\n2. Elabora un informe estructurado siguiendo exactamente el formato solicitado.\\n3. Utiliza un lenguaje claro, conciso y relevante para inversores.\\n4. No inventes información; limita tu análisis únicamente al contenido del texto.\\n\\nFORMATO DEL INFORME:\\n- **Introducción:** Presenta una visión general del tema tratado.\\n- **Puntos clave:** Resume los aspectos más importantes en formato de viñetas.\\n- **Conclusión:** Ofrece un cierre que sintetice el análisis realizado.\\n- **Activos recomendados:** Extrae y lista, en una sección aparte, todos los activos mencionados como opciones de inversión.\\n\\nTexto a analizar:\\n------------\\nexpectativas en las bolsas hoy con el ojo puesto el bitcoin. muy buenos días arrancan las bolsas hoy martes 9 de enero son las 9:11 minutos de madrid este primer análisis que vamos a mantener a partir de ahora a esta hora lo tendremos todos los días a las 9 de la mañana de madrid justo cuando arrancan las bolsas en europa estamos viendo la cotización de los índices de estados unidos en este momento en sesión asiática y apertura europea tal y como ayer con ligeras pérdidas ocasionadas por volver a niveles altos como en el nasdaq los 16966 enseguida pasamos a verlo el iex está abriendo a la baja con un fuerte gap bajista desde que ayer alcanzó la zona del refugio de largo plazo de los 10184 enseguida pasamos a verlo el dax ha abierto también con un gap alcista pero en este momento está testeando el cierre de ayer el eurostock está pegado ahora mismo a la apertura de de este año en los 4110 puntos lo vemos aquí la línea amarilla el oro está repuntando algo después de cuatro jornadas tomándose beneficios y el crudo que ayer retrocedió más de un 7% más de un 4% en el calendario macro en el día de hoy no tenemos nada importante desde la zona euro desde españa tampoco desde alemania ya se ha publicado el dato de la producción industrial del mes de noviembre ha salido un mal dato y desde estados unidos conoceremos hoy el balance de comercio exterior del mes de noviembre una hora antes de que abra wall street pero no suele ser un a pesar de ser una noticia de alto impacto no suele tener ese ese reflejo en las cotizaciones eh y después como cada semana los cambios el inventario de los del petróleo en el apartado de noticias lo más destacado fue que el crudo cayó un 4% traspasó la zona de los 71 70 la apertura de este año 2024 y que bitcoin pues tuvo una subida de un 7% llegando a tocar zonas como 47,000 pues porque se espera ya una decisión inminente sobre los etfs al contado de bitcoin a la se se la acaba ya mañana miércoles el tiempo y se espera que entre hoy y mañana pues esas solicitudes estén aprobadas ya que además algunas de ellas algunas instituciones más han rellenado sus solicitudes con niveles de tarifas ados pues en este arranque de mercado lo más importante ahora mismo son los índices en europa comenzamos con el ibex ayer fuertemente volvió a cerrar encima de los 10.184 puntos un tercer máximo como estamos viendo estábamos esperando la confirmación del tercer máximo ya lo tenemos ya he colocado niveles para este año 2024 igual que hacemos en otros análisis estamos colocando también las las fases esas que acabamos de dejar de ver son de 4 horas simplemente para que vieras dónde estaban bueno seguimos teniendo ahora mismo una fase tres con una figura de triples máximos que si se valida pues podríamos ver una fase cuatro correctiva así que la clave la tenemos por aquí ya vemos 106 1662 es un objetivo alcista que teníamos con esta fase número tres 10184 el de largo plazo se han tomado beneficios ahora mismo el está cerrando el paso niveles intr diarios para el día de hoy tenemos los siguientes ya lo vemos el punto de partida 10,59 puntos aquí estamos viendo también los de 4 horas bueno pues 10159 puntos y desde ahí 10135 10108 quito de medio lo de 4 horas para que nos quedemos solamente con los inter diarios entonces sabiendo que 10108 y 10,57 sería el último nivel para el día de hoy negociable si continúan las caídas 10,57 por la parte de arriba si recupera el eje central de operaciones el primero está en los 10183 un punto abajo del refugio de largo plazo atentos porque aquí se encontraría una fuerte oposición con cierres de posiciones alcistas intradiarias y que aparezcan liquidaciones 10,210 puntos y el último 10261 este es el mapa de operaciones para iex intad en 4 horas lo que tenemos pues es esta fase correctiva que si se coloca por debajo de los 10125 puntos se validara entonces a partir de esta zona de por aquí a muchos especuladores se les puede abrir la ventana para entrar en corto y distribuir con un objetivo en los 9861 puntos 9862 en número redondos vamos a redondear losos bueno pues así está la situación ahora mismo en el ies luego actualizaremos en ese segundo análisis que vendrá siendo sobre la 1 de la tarde de madrid y el último como siempre ya con acciones y etfs también de estados unidos que será el cierre de bolsas bueno delex nos vamos al dax repasamos la situación en el dax ya lo estamos viendo 16935 puntos es la fase perdón es el punto de de este año 2024 vamos a trasladarnos a su mapa de operaciones para el día de hoy comenzamos en la serie diaria como decíamos 16935 sabes que va en una fase 3 que ha traspasado el máximo de la fase número un 16616 y aquí conlleva un objetivo en los 17813 luego el primer objetivo semanal que teníamos 16935 por la parte de arriba pasamos a niveles intr diarios punto de partida en 16901 vemos cómo está perdendo terreno ha llegado al primero 861 después tenemos 816 732 647 que lo traería a esta barrera de 4 horas y el último 16563 que también lo traería a un nivel de 4 horas y por la parte de arriba 941 986 17070 y por último 17155 los niveles que estamos viendo de 4 horas la fase que se está negociando es una fase correctiva pero estamos viendo toda esta subida no se ha validado ese escenario de ventas en corto no ha llegado a los 16397 no se ha validado de seguir así lo que se puede validar es un cambio de fase y entonces empezaría íamos a negociar nuevamente de forma alcista ten eso en cuenta para tu negociación intr diaria luego sobre la una hacemos el análisis de 2 3 minutos de así van las bolsas y miraremos si ha habido un cambio en 4 horas el eurostat que sigue en esta fase alcista después de haberse metido en toda este momento de consolidación y de de posible acumulación dando un momento de entrada a partir de los 3900 64 puntos ha alcanzado los 4096 sigue siendo un nivel relevante que le da apoyo y a partir de ahí si logra superarlo vamos en una fase número tres toda la consolidación que vimos fue un momento entre la fase 2 y 3 con un objetivo en los 4275 puntos como podemos ver pasamos a echar un vistazo como vale sp500 serie diaria 4808 puntos es el nivel donde se ha empezado a tomar beneficios ayer casi lo llevan a él vamos a ver si hoy recupera el mercado y recupera el año 2024 sabes que aquí tenía también un segundo objetivo está en este en esta parte de aquí que se quede en un momento de mercado o que lo que veamos sea ya un momento correctivo niveles intr diarios para la jornada de hoy son los siguientes punto de partida 4795 está perdiendo en este momento ese nivel 4 783 71 47 que lo llevaría a la apertura semanal 4735 puntos y el último 23 esto en caso de fuerte corrección en caso de nuevas subidas a partir de los 95 nos encontramos 4806 la barrera aquí aquí debemos de tener en cuenta que hay una barrera importante que los especuladores intr diarios y de muy corto plazo lo van a utilizar 4804 que lo están viendo 4800 6 y 4808 ellos lo están viendo nosotros los conocemos estemos atentos a eso después tenemos 19 y 18 apertura 2024 y nivel intradiario para el día de hoy este es el mapa para el sp500 y en cuanto al nasda que también va en en este momento corrigiendo después de haber alcanzado ayer los 16000 696 el primer objetivo de toda esta subida bueno vimos como tomaron beneficios seguimos en estas fase no ha cambiado el objetivo de los 16.696 si recupera los 17019 su siguiente objetivo lo tienen los 18275 niveles intr diarios para el nasda en el día de hoy son los siguientes punto de partida 16776 y desde ahí si siguen las caídas 736 672 y 608 que coincide con los 16614 de 4 horas sabes que en 4 horas el nasdaq lo que está es negociando una fase correctiva pero que también se está anulando en breve quizás en la actualización de la 1 de la tarde tengamos ya una fase definida alcista bueno y si eso ocurre entonces miramos niveles por la parte de arriba 815 que está muy cercano 879 943 y 17027 le ayudaría a recuperar la apertura de este año 2024 y después tenemos un último los 1711 y el eurod dólar vamos a pasar al eurod dólar y acabamos con él tenemos lo siguiente seguimos estando en una fase tres seguimos estando dentro de esa ventana por tercera vez donde nos ha dado dos veces señales alcistas el 1096 el 6180 de esta fase 3 que está que estamos viendo si lo logra superar todos estos rangos todo este momento aquí enredado chopi es por el freno en los 1096 si hay decisión de romperlo entonces tendremos la apertura de este año los uno vamos a cerrar un poco el gráfico para que se vea la puntuación ahí lo tenemos 1137 es la apertura de este año sería un objetivo de cortito plazo para aprovechar pero el objetivo de toda esta subida son los 1157 si pasamos a niveles intr diarios vamos a ver si nos podrían ayudar a recuperar esos 110 37 tenemos el punto de partida en los 10956 y estamos viendo cómo ha llegado a las a apertura de esta semana que le está frenando la caída la apertura está aquí en los 1094 si no frena la caída tendremos los 93 y los 902 para buscar liquidez y por último 867 y 847 si aparece esta liquidez a partir de uno de estos puntos conllevaría la cotización del eurod dólar a recuperar los 98 dos los 10 11 y entonces sí aquí coincide un nivel intradiario también con la apertura de este año 2024 cómo estás viendo pues está la situación en las bolsas nos quedamos así nos encontramos después actualizamos la información dos veces más en este día de hoy que todo sea más y mejor un saludo\\n------------\\n\\nRecuerda: Sigue el formato solicitado y asegúrate de que la información sea precisa y útil para inversores.'"
      ]
     },
     "execution_count": 11,
     "metadata": {},
     "output_type": "execute_result"
    }
   ],
   "source": [
    "df_test[df_test['channel_name']== 'Bolsas hoy | Invierte y Crece '].iloc[-1]['prompt']"
   ]
  },
  {
   "cell_type": "markdown",
   "id": "1e383fc1",
   "metadata": {},
   "source": [
    "\n",
    "---\n",
    "\n",
    "# Workshop: Fine-Tuning Llama 3.2-3B-Instruct for Summarization with YouTube Transcriptions\n",
    "\n",
    "## Objetivo\n",
    "\n",
    "Este workshop te guiará en el proceso de **Supervised Fine-Tuning (SFT)** de un modelo Llama 3.2-3B-Instruct, adaptándolo para tareas de resumen automático a partir de transcripciones de videos de YouTube. Aprenderás a preparar datos reales, ajustar el modelo y evaluar su desempeño en generación de resúmenes.\n",
    "\n",
    "---\n",
    "\n",
    "## 1. Descripción del Dataset\n",
    "\n",
    "El dataset **AndresR2909/youtube_transcriptions_summaries_2025_gpt4.1** contiene transcripciones y resúmenes generados para videos de YouTube, ideal para entrenar modelos de resumen automático.\n",
    "\n",
    "### Características principales:\n",
    "- **Volumen:** 221 ejemplos, cada uno con transcripción, prompt e instructivo, y resumen.\n",
    "- **Columnas relevantes:**\n",
    "  - `text`: Transcripción completa del video (input).\n",
    "  - `prompt`: Instrucción o pregunta para el modelo (instruction).\n",
    "  - `summary`: Resumen generado (output).\n",
    "- **Otras columnas:** Información de canal, fecha, duración, título, términos clave, etc.\n",
    "\n",
    "### Ejemplo de estructura para fine-tuning:\n"
   ]
  },
  {
   "cell_type": "code",
   "execution_count": null,
   "id": "2b279207",
   "metadata": {
    "vscode": {
     "languageId": "json"
    }
   },
   "outputs": [],
   "source": [
    "{\n",
    "  \"instruction\": \"<prompt>\",\n",
    "  \"input\": \"<text>\",\n",
    "  \"output\": \"<summary>\"\n",
    "}"
   ]
  },
  {
   "cell_type": "markdown",
   "id": "5ac58f42",
   "metadata": {},
   "source": [
    "\n",
    "\n",
    "---\n",
    "\n",
    "## 2. Descripción de la Tarea\n",
    "\n",
    "### Objetivo:\n",
    "Ajustar el modelo **Llama 3.2-3B-Instruct** para que genere resúmenes precisos y contextuales a partir de transcripciones de videos, usando instrucciones específicas.\n",
    "\n",
    "### Pasos del Workshop:\n",
    "\n",
    "1. **Exploración y Preprocesamiento de Datos:**\n",
    "   - Analizar la estructura del DataFrame.\n",
    "   - Convertir los datos a formato JSON compatible con litgpt (`instruction`, `input`, `output`).\n",
    "\n",
    "2. **Selección del Modelo:**\n",
    "   - Usar [`meta-llama/Llama-3.2-3B-Instruct`](https://huggingface.co/meta-llama/Llama-3.2-3B-Instruct), un modelo eficiente y potente para tareas de generación de texto.\n",
    "\n",
    "3. **Configuración del Fine-Tuning:**\n",
    "   - Definir hiperparámetros: learning rate, batch size, epochs, etc.\n",
    "   - Entrenar el modelo con litgpt usando el dataset procesado.\n",
    "\n",
    "4. **Evaluación e Iteración:**\n",
    "   - Validar el modelo con un subconjunto de datos.\n",
    "   - Analizar la calidad de los resúmenes y ajustar el proceso si es necesario.\n",
    "\n",
    "5. **Consideraciones de Despliegue:**\n",
    "   - Integrar el modelo en un sistema de generación de resúmenes.\n",
    "   - Optimizar inferencia y discutir aspectos éticos.\n",
    "\n",
    "### Resultado Esperado:\n",
    "- Experiencia práctica en preprocesamiento, fine-tuning y evaluación de modelos LLM.\n",
    "- Un modelo ajustado capaz de generar resúmenes efectivos a partir de transcripciones de YouTube.\n",
    "- Comprensión de cómo adaptar LLMs a tareas específicas usando SFT.\n",
    "\n",
    "---\n",
    "\n",
    "## Recursos\n",
    "\n",
    "- **Modelo:** [meta-llama/Llama-3.2-3B-Instruct](https://huggingface.co/meta-llama/Llama-3.2-3B-Instruct)\n",
    "- **Dataset:** [AndresR2909/youtube_transcriptions_summaries_2025_gpt4.1](https://huggingface.co/datasets/AndresR2909/youtube_transcriptions_summaries_2025_gpt4.1)\n",
    "\n",
    "---\n",
    "\n",
    "¿Necesitas el código para convertir tu DataFrame a este formato JSON?"
   ]
  },
  {
   "cell_type": "code",
   "execution_count": 13,
   "id": "1dae5587",
   "metadata": {},
   "outputs": [
    {
     "name": "stdout",
     "output_type": "stream",
     "text": [
      "Actúa como un experto en trading y análisis de mercados financieros.\n",
      "\n",
      "INSTRUCCIONES:\n",
      "1. Analiza el texto proporcionado entre las líneas de guiones.\n",
      "2. Elabora un informe estructurado siguiendo exactamente el formato solicitado.\n",
      "3. Utiliza un lenguaje claro, conciso y relevante para inversores.\n",
      "4. No inventes información; limita tu análisis únicamente al contenido del texto.\n",
      "\n",
      "FORMATO DEL INFORME:\n",
      "- **Introducción:** Presenta una visión general del tema tratado.\n",
      "- **Puntos clave:** Resume los aspectos más importantes en formato de viñetas.\n",
      "- **Conclusión:** Ofrece un cierre que sintetice el análisis realizado.\n",
      "- **Activos recomendados:** Extrae y lista, en una sección aparte, todos los activos mencionados como opciones de inversión.\n",
      "\n",
      "Texto a analizar:\n",
      "------------\n",
      "{context}\n",
      "------------\n",
      "\n",
      "Recuerda: Sigue el formato solicitado y asegúrate de que la información sea precisa y útil para inversores.\n",
      "\n"
     ]
    }
   ],
   "source": [
    "import json\n",
    "\n",
    "# Leer la instrucción desde el archivo\n",
    "with open('../app/prompts/v3_summary_expert.txt', 'r', encoding='utf-8') as f:\n",
    "    instruction_template = f.read()\n",
    "\n",
    "print(instruction_template)"
   ]
  },
  {
   "cell_type": "code",
   "execution_count": 17,
   "id": "d230f362",
   "metadata": {},
   "outputs": [
    {
     "name": "stdout",
     "output_type": "stream",
     "text": [
      "\u001b[30m\u001b[43mapp\u001b[m\u001b[m/              \u001b[30m\u001b[43mdata\u001b[m\u001b[m/             \u001b[30m\u001b[43mnotebooks\u001b[m\u001b[m/        requirements.txt\n"
     ]
    }
   ],
   "source": [
    "ls"
   ]
  },
  {
   "cell_type": "code",
   "execution_count": 18,
   "id": "3911047c",
   "metadata": {},
   "outputs": [
    {
     "name": "stdout",
     "output_type": "stream",
     "text": [
      "Archivos guardados: data/train_data.json y data/test_data.json\n"
     ]
    }
   ],
   "source": [
    "def convert_to_json_format(df,instruction):\n",
    "    return [\n",
    "        {\n",
    "            \"instruction\": instruction,\n",
    "            \"input\": row[\"text\"],\n",
    "            \"output\": row[\"summary\"]\n",
    "        }\n",
    "        for _, row in df.iterrows()\n",
    "    ]\n",
    "\n",
    "# Convertir train y test\n",
    "train_data_litgpt = convert_to_json_format(df_train,instruction_template)\n",
    "test_data_litgpt = convert_to_json_format(df_test,instruction_template)\n",
    "\n",
    "# Guardar a archivos JSON\n",
    "with open('data/train_data/train_data.json', 'w', encoding='utf-8') as f:\n",
    "    json.dump(train_data_litgpt, f, ensure_ascii=False, indent=4)\n",
    "\n",
    "with open('data/train_data/test_data.json', 'w', encoding='utf-8') as f:\n",
    "    json.dump(test_data_litgpt, f, ensure_ascii=False, indent=4)\n",
    "\n",
    "print(\"Archivos guardados: data/train_data.json y data/test_data.json\")"
   ]
  }
 ],
 "metadata": {
  "kernelspec": {
   "display_name": ".venv",
   "language": "python",
   "name": "python3"
  },
  "language_info": {
   "codemirror_mode": {
    "name": "ipython",
    "version": 3
   },
   "file_extension": ".py",
   "mimetype": "text/x-python",
   "name": "python",
   "nbconvert_exporter": "python",
   "pygments_lexer": "ipython3",
   "version": "3.12.4"
  }
 },
 "nbformat": 4,
 "nbformat_minor": 5
}
