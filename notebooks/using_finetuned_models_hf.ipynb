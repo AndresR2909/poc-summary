{
 "cells": [
  {
   "cell_type": "markdown",
   "id": "e3474d44",
   "metadata": {},
   "source": [
    "pip install transformers torch torchvision"
   ]
  },
  {
   "cell_type": "code",
   "execution_count": 26,
   "id": "a73f9689",
   "metadata": {},
   "outputs": [],
   "source": [
    "from huggingface_hub import login\n",
    "import os\n",
    "import pandas as pd\n",
    "from dotenv import load_dotenv\n",
    "# Load model directly\n",
    "from transformers import AutoTokenizer, AutoModelForCausalLM"
   ]
  },
  {
   "cell_type": "code",
   "execution_count": 27,
   "id": "513e43d0",
   "metadata": {},
   "outputs": [],
   "source": [
    "dataset_name = \"AndresR2909/youtube_transcriptions_summaries_2025_gpt4.1\"\n",
    "splits = {'train': 'data/train-00000-of-00001.parquet', 'test': 'data/test-00000-of-00001.parquet'}\n",
    "df_test = pd.read_parquet(f\"hf://datasets/{dataset_name}/\" + splits[\"test\"])"
   ]
  },
  {
   "cell_type": "code",
   "execution_count": 28,
   "id": "8c7888b0",
   "metadata": {},
   "outputs": [
    {
     "name": "stderr",
     "output_type": "stream",
     "text": [
      "Note: Environment variable`HF_TOKEN` is set and is the current active token independently from the token you've just configured.\n"
     ]
    }
   ],
   "source": [
    "load_dotenv()\n",
    "login(token = os.environ.get(\"HF_TOKEN\") )"
   ]
  },
  {
   "cell_type": "code",
   "execution_count": 24,
   "id": "a1bd6aba",
   "metadata": {},
   "outputs": [
    {
     "name": "stderr",
     "output_type": "stream",
     "text": [
      "Fetching 3 files: 100%|██████████| 3/3 [10:41<00:00, 213.73s/it]\n",
      "Loading checkpoint shards: 100%|██████████| 3/3 [00:00<00:00, 29.66it/s]\n"
     ]
    }
   ],
   "source": [
    "# Load model directly\n",
    "\n",
    "model = AutoModelForCausalLM.from_pretrained(\"AndresR2909/hf-llama-3.2-3b-finetuned_bnb_nf4_v2\")"
   ]
  },
  {
   "cell_type": "code",
   "execution_count": 25,
   "id": "747c0ae7",
   "metadata": {},
   "outputs": [],
   "source": [
    "\n",
    "tokenizer = AutoTokenizer.from_pretrained(\"AndresR2909/hf-llama-3.2-3b-finetuned_bnb_nf4_v2\")"
   ]
  },
  {
   "cell_type": "code",
   "execution_count": 31,
   "id": "f3f1537d",
   "metadata": {},
   "outputs": [
    {
     "name": "stdout",
     "output_type": "stream",
     "text": [
      " Utiliza un lenguaje claro y conciso. No inventes datos; limita el análisis al contenido del texto.\n",
      "\n",
      "**Informe de Análisis de Mercado**\n",
      "\n",
      "- **Introducción:**  \n",
      "El texto analiza la situación actual de los mercados financieros, con especial énfasis en la bolsa de Estados Unidos. Se discuten señales técnicas y fundamentales que sugieren cautela para los inversores en 2024, destacando factores como la euforia del mercado, altos niveles de valoraciones, desacoplamiento entre indicadores económicos y bursátiles, y el impacto de la economía estadounidense en las tasas de interés.\n",
      "\n",
      "- **Puntos clave:**\n",
      "  - La bolsa de Estados Unidos ha experimentado un fuerte rally desde mínimos, con un aumento del 5-6% en el índice Nasdaq y cerca de máximos.\n",
      "  - Se observa euforia y optimismo excesivos en el mercado, lo que puede anticipar correcciones.\n",
      "  - Indicadores como el \"Investor Intelligence\" y \"Global Equity Flow\" indican que el mercado está muy concentrado y tomando riesgos excesivos, señalando cautela.\n",
      "  - El índice de \"Market Bread\" muestra que el grueso del mercado no está subiendo, lo que suele ser una señal bajista.\n",
      "  - Las valoraciones de las \"Siete Magníficas\" (Apple, Google, Amazon, Netflix, Meta, Tesla y NVIDIA) están en promedio alrededor de 30 veces utilidades, lo que considera costosa y peligroso.\n",
      "  - El desacoplamiento entre indicadores líderes de la economía y el mercado es históricamente raro y no es una señal positiva.\n",
      "  - La economía estadounidense sigue fuerte, pero la probabilidad de bajar las tasas de interés ha disminuido significativamente.\n",
      "  - El mercado tiende a caer fuerte cuando bajan tasas de interés, lo que podría generar sorpresas negativas.\n",
      "  - Se recomienda tener liquidez y considerar coberturas debido a la incertidumbre y el riesgo excesivo en el mercado.\n",
      "\n",
      "- **Conclusión:**  \n",
      "El análisis sugiere que, aunque la economía estadounidense sigue fuerte, los indicadores técnicos y fundamentales señalan señales de cautela para los inversores en 2024. La euforia excesiva, altas valoraciones y el desacoplamiento entre indicadores económicos y bursátiles crean un entorno que podría anticipar una corrección. Se recomienda precaución, mantener liquidez y considerar estrategias de cobertura para proteger las inversiones.\n",
      "\n",
      "- **Activos recomendados:**\n",
      "  - Apple (AAPL)\n",
      "  - Google (GOOGL)\n",
      "  - Amazon (AMZN)\n",
      "  - Netflix (NFLX)\n",
      "  - Meta (META)\n",
      "  - Tesla (TSLA)\n",
      "  - NVIDIA (NVDA)\n",
      "  - Chipotle (CMG)\n"
     ]
    }
   ],
   "source": [
    "def resumir_documento(texto, max_length=8128, min_length=10):\n",
    "    # Tokenizar el texto de entrada\n",
    "    inputs = tokenizer(texto, return_tensors=\"pt\", truncation=True, max_length=tokenizer.model_max_length)\n",
    "    # Generar el resumen usando el modelo\n",
    "    summary_ids = model.generate(\n",
    "        inputs[\"input_ids\"],\n",
    "        attention_mask=inputs[\"attention_mask\"],\n",
    "        max_length=max_length,\n",
    "        min_length=min_length,\n",
    "        num_beams=4,\n",
    "        early_stopping=True,#False\n",
    "        pad_token_id=tokenizer.eos_token_id\n",
    "    )\n",
    "    # Decodificar solo los nuevos tokens generados (sin el input)\n",
    "    input_length = inputs[\"input_ids\"].shape[1]\n",
    "    generated_tokens = summary_ids[0][input_length:]\n",
    "    resumen = tokenizer.decode(generated_tokens, skip_special_tokens=True)\n",
    "    return resumen\n",
    "\n",
    "# Ejemplo de uso:\n",
    "texto = df_test.loc[10, 'prompt']\n",
    "print(resumir_documento(texto))"
   ]
  }
 ],
 "metadata": {
  "kernelspec": {
   "display_name": ".venv",
   "language": "python",
   "name": "python3"
  },
  "language_info": {
   "codemirror_mode": {
    "name": "ipython",
    "version": 3
   },
   "file_extension": ".py",
   "mimetype": "text/x-python",
   "name": "python",
   "nbconvert_exporter": "python",
   "pygments_lexer": "ipython3",
   "version": "3.12.4"
  }
 },
 "nbformat": 4,
 "nbformat_minor": 5
}
