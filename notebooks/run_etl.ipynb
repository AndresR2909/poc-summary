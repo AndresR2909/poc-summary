{
 "cells": [
  {
   "cell_type": "markdown",
   "metadata": {},
   "source": [
    "etl full"
   ]
  },
  {
   "cell_type": "code",
   "execution_count": 3,
   "metadata": {},
   "outputs": [],
   "source": [
    "import os\n",
    "os.chdir(\"..\")"
   ]
  },
  {
   "cell_type": "code",
   "execution_count": 4,
   "metadata": {},
   "outputs": [
    {
     "name": "stdout",
     "output_type": "stream",
     "text": [
      "\u001b[30m\u001b[43mapp\u001b[m\u001b[m/              \u001b[30m\u001b[43mdata\u001b[m\u001b[m/             \u001b[30m\u001b[43mnotebooks\u001b[m\u001b[m/        requirements.txt\n"
     ]
    }
   ],
   "source": [
    "ls"
   ]
  },
  {
   "cell_type": "code",
   "execution_count": 4,
   "metadata": {},
   "outputs": [],
   "source": [
    "from app.preprocessing.etl_process import ETLProcess"
   ]
  },
  {
   "cell_type": "code",
   "execution_count": 5,
   "metadata": {},
   "outputs": [],
   "source": [
    "etl = ETLProcess()"
   ]
  },
  {
   "cell_type": "code",
   "execution_count": 6,
   "metadata": {},
   "outputs": [
    {
     "name": "stdout",
     "output_type": "stream",
     "text": [
      "<class 'pandas.core.frame.DataFrame'>\n",
      "RangeIndex: 186 entries, 0 to 185\n",
      "Data columns (total 15 columns):\n",
      " #   Column            Non-Null Count  Dtype  \n",
      "---  ------            --------------  -----  \n",
      " 0   channel_name      186 non-null    object \n",
      " 1   channel_id        186 non-null    object \n",
      " 2   channel_url       186 non-null    object \n",
      " 3   video_id          186 non-null    object \n",
      " 4   title             186 non-null    object \n",
      " 5   url               186 non-null    object \n",
      " 6   description       180 non-null    object \n",
      " 7   duration          182 non-null    float64\n",
      " 8   keywords          0 non-null      float64\n",
      " 9   publish_date      186 non-null    object \n",
      " 10  relativeDateText  186 non-null    object \n",
      " 11  total_length      186 non-null    int64  \n",
      " 12  total_views       186 non-null    int64  \n",
      " 13  video_rating      186 non-null    int64  \n",
      " 14  caption_text_es   185 non-null    object \n",
      "dtypes: float64(2), int64(3), object(10)\n",
      "memory usage: 21.9+ KB\n",
      "<class 'pandas.core.frame.DataFrame'>\n",
      "RangeIndex: 186 entries, 0 to 185\n",
      "Data columns (total 10 columns):\n",
      " #   Column           Non-Null Count  Dtype  \n",
      "---  ------           --------------  -----  \n",
      " 0   channel_name     186 non-null    object \n",
      " 1   channel_id       186 non-null    object \n",
      " 2   channel_url      186 non-null    object \n",
      " 3   video_id         186 non-null    object \n",
      " 4   title            186 non-null    object \n",
      " 5   url              186 non-null    object \n",
      " 6   duration         186 non-null    float64\n",
      " 7   publish_date     186 non-null    object \n",
      " 8   video_rating     186 non-null    int64  \n",
      " 9   caption_text_es  185 non-null    object \n",
      "dtypes: float64(1), int64(1), object(8)\n",
      "memory usage: 14.7+ KB\n",
      "<class 'pandas.core.frame.DataFrame'>\n",
      "RangeIndex: 186 entries, 0 to 185\n",
      "Data columns (total 12 columns):\n",
      " #   Column            Non-Null Count  Dtype  \n",
      "---  ------            --------------  -----  \n",
      " 0   channel_name      186 non-null    object \n",
      " 1   channel_id        186 non-null    object \n",
      " 2   channel_url       186 non-null    object \n",
      " 3   video_id          186 non-null    object \n",
      " 4   title             186 non-null    object \n",
      " 5   url               186 non-null    object \n",
      " 6   duration          186 non-null    float64\n",
      " 7   publish_date      186 non-null    object \n",
      " 8   video_rating      186 non-null    int64  \n",
      " 9   caption_text_es   185 non-null    object \n",
      " 10  last_update_date  186 non-null    object \n",
      " 11  year              186 non-null    int64  \n",
      "dtypes: float64(1), int64(2), object(9)\n",
      "memory usage: 17.6+ KB\n",
      "[2025]\n",
      "abfs://dleafitproject.dfs.core.windows.net/raw/youtube_data/youtube_data_2025\n"
     ]
    },
    {
     "name": "stderr",
     "output_type": "stream",
     "text": [
      "/Users/andrestrepo/Documents/repos_personal/poc-summary/app/preprocessing/data_preprocessing.py:96: SettingWithCopyWarning: \n",
      "A value is trying to be set on a copy of a slice from a DataFrame.\n",
      "Try using .loc[row_indexer,col_indexer] = value instead\n",
      "\n",
      "See the caveats in the documentation: https://pandas.pydata.org/pandas-docs/stable/user_guide/indexing.html#returning-a-view-versus-a-copy\n",
      "  df_clean[\"caption_text_es\"] = (\n",
      "/Users/andrestrepo/Documents/repos_personal/poc-summary/app/preprocessing/data_preprocessing.py:99: SettingWithCopyWarning: \n",
      "A value is trying to be set on a copy of a slice from a DataFrame.\n",
      "Try using .loc[row_indexer,col_indexer] = value instead\n",
      "\n",
      "See the caveats in the documentation: https://pandas.pydata.org/pandas-docs/stable/user_guide/indexing.html#returning-a-view-versus-a-copy\n",
      "  df_clean[\"text\"] = df_clean[\"caption_text_es\"].apply(self._limpiar_texto)\n"
     ]
    },
    {
     "name": "stdout",
     "output_type": "stream",
     "text": [
      "[2025]\n",
      "abfs://dleafitproject.dfs.core.windows.net/curated/youtube_data/youtube_data_2025\n",
      "datos_1_marzo_al_17_abril.csv\n"
     ]
    }
   ],
   "source": [
    "etl.run_etl()"
   ]
  }
 ],
 "metadata": {
  "kernelspec": {
   "display_name": ".venv",
   "language": "python",
   "name": "python3"
  },
  "language_info": {
   "codemirror_mode": {
    "name": "ipython",
    "version": 3
   },
   "file_extension": ".py",
   "mimetype": "text/x-python",
   "name": "python",
   "nbconvert_exporter": "python",
   "pygments_lexer": "ipython3",
   "version": "3.12.4"
  }
 },
 "nbformat": 4,
 "nbformat_minor": 2
}
